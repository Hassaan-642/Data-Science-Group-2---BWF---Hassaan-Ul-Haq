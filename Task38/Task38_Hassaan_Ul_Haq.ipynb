{
  "nbformat": 4,
  "nbformat_minor": 0,
  "metadata": {
    "colab": {
      "provenance": []
    },
    "kernelspec": {
      "name": "python3",
      "display_name": "Python 3"
    },
    "language_info": {
      "name": "python"
    }
  },
  "cells": [
    {
      "cell_type": "markdown",
      "source": [
        "Task 38-> Advanced NLP Techniques (NER, Sentiment Analysis)"
      ],
      "metadata": {
        "id": "6PfIsXejqSK0"
      }
    },
    {
      "cell_type": "markdown",
      "source": [
        "Try to work on some of the common problems in NLP. For Named Entity Recognition (NER), you are allowed to use the NLTK library."
      ],
      "metadata": {
        "id": "tkwxyceAt-eC"
      }
    },
    {
      "cell_type": "markdown",
      "source": [
        "importing necessary libraries and dataset"
      ],
      "metadata": {
        "id": "lmDzMRJTuHuL"
      }
    },
    {
      "cell_type": "code",
      "source": [
        "import pandas as pd\n",
        "import nltk\n",
        "from nltk import word_tokenize, pos_tag, ne_chunk\n",
        "from nltk.sentiment import SentimentIntensityAnalyzer\n",
        "nltk.download('vader_lexicon')\n",
        "from google.colab import files\n",
        "uploaded = files.upload()\n",
        "\n",
        "nltk.download('punkt')\n",
        "nltk.download('maxent_ne_chunker')\n",
        "nltk.download('words')\n",
        "nltk.download('averaged_perceptron_tagger')\n",
        "\n",
        "data = pd.read_csv('twitter_training.csv')\n",
        "print(data.head())\n"
      ],
      "metadata": {
        "colab": {
          "base_uri": "https://localhost:8080/",
          "height": 507
        },
        "id": "lG-SNlYeqSWB",
        "outputId": "14a58dd3-2292-4c93-8b6f-3bb9cf550414"
      },
      "execution_count": null,
      "outputs": [
        {
          "output_type": "stream",
          "name": "stderr",
          "text": [
            "[nltk_data] Downloading package vader_lexicon to /root/nltk_data...\n"
          ]
        },
        {
          "output_type": "display_data",
          "data": {
            "text/plain": [
              "<IPython.core.display.HTML object>"
            ],
            "text/html": [
              "\n",
              "     <input type=\"file\" id=\"files-f8fbf02c-d402-42f7-88ac-bce6f8fcd1a7\" name=\"files[]\" multiple disabled\n",
              "        style=\"border:none\" />\n",
              "     <output id=\"result-f8fbf02c-d402-42f7-88ac-bce6f8fcd1a7\">\n",
              "      Upload widget is only available when the cell has been executed in the\n",
              "      current browser session. Please rerun this cell to enable.\n",
              "      </output>\n",
              "      <script>// Copyright 2017 Google LLC\n",
              "//\n",
              "// Licensed under the Apache License, Version 2.0 (the \"License\");\n",
              "// you may not use this file except in compliance with the License.\n",
              "// You may obtain a copy of the License at\n",
              "//\n",
              "//      http://www.apache.org/licenses/LICENSE-2.0\n",
              "//\n",
              "// Unless required by applicable law or agreed to in writing, software\n",
              "// distributed under the License is distributed on an \"AS IS\" BASIS,\n",
              "// WITHOUT WARRANTIES OR CONDITIONS OF ANY KIND, either express or implied.\n",
              "// See the License for the specific language governing permissions and\n",
              "// limitations under the License.\n",
              "\n",
              "/**\n",
              " * @fileoverview Helpers for google.colab Python module.\n",
              " */\n",
              "(function(scope) {\n",
              "function span(text, styleAttributes = {}) {\n",
              "  const element = document.createElement('span');\n",
              "  element.textContent = text;\n",
              "  for (const key of Object.keys(styleAttributes)) {\n",
              "    element.style[key] = styleAttributes[key];\n",
              "  }\n",
              "  return element;\n",
              "}\n",
              "\n",
              "// Max number of bytes which will be uploaded at a time.\n",
              "const MAX_PAYLOAD_SIZE = 100 * 1024;\n",
              "\n",
              "function _uploadFiles(inputId, outputId) {\n",
              "  const steps = uploadFilesStep(inputId, outputId);\n",
              "  const outputElement = document.getElementById(outputId);\n",
              "  // Cache steps on the outputElement to make it available for the next call\n",
              "  // to uploadFilesContinue from Python.\n",
              "  outputElement.steps = steps;\n",
              "\n",
              "  return _uploadFilesContinue(outputId);\n",
              "}\n",
              "\n",
              "// This is roughly an async generator (not supported in the browser yet),\n",
              "// where there are multiple asynchronous steps and the Python side is going\n",
              "// to poll for completion of each step.\n",
              "// This uses a Promise to block the python side on completion of each step,\n",
              "// then passes the result of the previous step as the input to the next step.\n",
              "function _uploadFilesContinue(outputId) {\n",
              "  const outputElement = document.getElementById(outputId);\n",
              "  const steps = outputElement.steps;\n",
              "\n",
              "  const next = steps.next(outputElement.lastPromiseValue);\n",
              "  return Promise.resolve(next.value.promise).then((value) => {\n",
              "    // Cache the last promise value to make it available to the next\n",
              "    // step of the generator.\n",
              "    outputElement.lastPromiseValue = value;\n",
              "    return next.value.response;\n",
              "  });\n",
              "}\n",
              "\n",
              "/**\n",
              " * Generator function which is called between each async step of the upload\n",
              " * process.\n",
              " * @param {string} inputId Element ID of the input file picker element.\n",
              " * @param {string} outputId Element ID of the output display.\n",
              " * @return {!Iterable<!Object>} Iterable of next steps.\n",
              " */\n",
              "function* uploadFilesStep(inputId, outputId) {\n",
              "  const inputElement = document.getElementById(inputId);\n",
              "  inputElement.disabled = false;\n",
              "\n",
              "  const outputElement = document.getElementById(outputId);\n",
              "  outputElement.innerHTML = '';\n",
              "\n",
              "  const pickedPromise = new Promise((resolve) => {\n",
              "    inputElement.addEventListener('change', (e) => {\n",
              "      resolve(e.target.files);\n",
              "    });\n",
              "  });\n",
              "\n",
              "  const cancel = document.createElement('button');\n",
              "  inputElement.parentElement.appendChild(cancel);\n",
              "  cancel.textContent = 'Cancel upload';\n",
              "  const cancelPromise = new Promise((resolve) => {\n",
              "    cancel.onclick = () => {\n",
              "      resolve(null);\n",
              "    };\n",
              "  });\n",
              "\n",
              "  // Wait for the user to pick the files.\n",
              "  const files = yield {\n",
              "    promise: Promise.race([pickedPromise, cancelPromise]),\n",
              "    response: {\n",
              "      action: 'starting',\n",
              "    }\n",
              "  };\n",
              "\n",
              "  cancel.remove();\n",
              "\n",
              "  // Disable the input element since further picks are not allowed.\n",
              "  inputElement.disabled = true;\n",
              "\n",
              "  if (!files) {\n",
              "    return {\n",
              "      response: {\n",
              "        action: 'complete',\n",
              "      }\n",
              "    };\n",
              "  }\n",
              "\n",
              "  for (const file of files) {\n",
              "    const li = document.createElement('li');\n",
              "    li.append(span(file.name, {fontWeight: 'bold'}));\n",
              "    li.append(span(\n",
              "        `(${file.type || 'n/a'}) - ${file.size} bytes, ` +\n",
              "        `last modified: ${\n",
              "            file.lastModifiedDate ? file.lastModifiedDate.toLocaleDateString() :\n",
              "                                    'n/a'} - `));\n",
              "    const percent = span('0% done');\n",
              "    li.appendChild(percent);\n",
              "\n",
              "    outputElement.appendChild(li);\n",
              "\n",
              "    const fileDataPromise = new Promise((resolve) => {\n",
              "      const reader = new FileReader();\n",
              "      reader.onload = (e) => {\n",
              "        resolve(e.target.result);\n",
              "      };\n",
              "      reader.readAsArrayBuffer(file);\n",
              "    });\n",
              "    // Wait for the data to be ready.\n",
              "    let fileData = yield {\n",
              "      promise: fileDataPromise,\n",
              "      response: {\n",
              "        action: 'continue',\n",
              "      }\n",
              "    };\n",
              "\n",
              "    // Use a chunked sending to avoid message size limits. See b/62115660.\n",
              "    let position = 0;\n",
              "    do {\n",
              "      const length = Math.min(fileData.byteLength - position, MAX_PAYLOAD_SIZE);\n",
              "      const chunk = new Uint8Array(fileData, position, length);\n",
              "      position += length;\n",
              "\n",
              "      const base64 = btoa(String.fromCharCode.apply(null, chunk));\n",
              "      yield {\n",
              "        response: {\n",
              "          action: 'append',\n",
              "          file: file.name,\n",
              "          data: base64,\n",
              "        },\n",
              "      };\n",
              "\n",
              "      let percentDone = fileData.byteLength === 0 ?\n",
              "          100 :\n",
              "          Math.round((position / fileData.byteLength) * 100);\n",
              "      percent.textContent = `${percentDone}% done`;\n",
              "\n",
              "    } while (position < fileData.byteLength);\n",
              "  }\n",
              "\n",
              "  // All done.\n",
              "  yield {\n",
              "    response: {\n",
              "      action: 'complete',\n",
              "    }\n",
              "  };\n",
              "}\n",
              "\n",
              "scope.google = scope.google || {};\n",
              "scope.google.colab = scope.google.colab || {};\n",
              "scope.google.colab._files = {\n",
              "  _uploadFiles,\n",
              "  _uploadFilesContinue,\n",
              "};\n",
              "})(self);\n",
              "</script> "
            ]
          },
          "metadata": {}
        },
        {
          "output_type": "stream",
          "name": "stdout",
          "text": [
            "Saving twitter_training.csv to twitter_training (2).csv\n",
            "     2401  Borderlands  Positive  \\\n",
            "0  2402.0  Borderlands  Positive   \n",
            "1  2403.0  Borderlands  Positive   \n",
            "2  2404.0  Borderlands  Positive   \n",
            "3  2405.0  Borderlands  Positive   \n",
            "4  2406.0  Borderlands  Positive   \n",
            "\n",
            "  im getting on borderlands and i will murder you all ,  \n",
            "0  I am coming to the borders and I will kill you...     \n",
            "1  im getting on borderlands and i will kill you ...     \n",
            "2  im coming on borderlands and i will murder you...     \n",
            "3  im getting on borderlands 2 and i will murder ...     \n",
            "4  im getting into borderlands and i can murder y...     \n"
          ]
        },
        {
          "output_type": "stream",
          "name": "stderr",
          "text": [
            "[nltk_data] Downloading package punkt to /root/nltk_data...\n",
            "[nltk_data]   Package punkt is already up-to-date!\n",
            "[nltk_data] Downloading package maxent_ne_chunker to\n",
            "[nltk_data]     /root/nltk_data...\n",
            "[nltk_data]   Package maxent_ne_chunker is already up-to-date!\n",
            "[nltk_data] Downloading package words to /root/nltk_data...\n",
            "[nltk_data]   Package words is already up-to-date!\n",
            "[nltk_data] Downloading package averaged_perceptron_tagger to\n",
            "[nltk_data]     /root/nltk_data...\n",
            "[nltk_data]   Package averaged_perceptron_tagger is already up-to-\n",
            "[nltk_data]       date!\n"
          ]
        }
      ]
    },
    {
      "cell_type": "markdown",
      "source": [
        "Perform Named Entity Recognition (NER) using NLTK"
      ],
      "metadata": {
        "id": "cC5L9C6SqSfw"
      }
    },
    {
      "cell_type": "code",
      "source": [
        "text_column_index = 3\n",
        "\n",
        "#Converting text column to string type to avoid type errors\n",
        "data.iloc[:, text_column_index] = data.iloc[:, text_column_index].astype(str)\n",
        "#Filling nan values with empty string to avoid errors\n",
        "data.iloc[:, text_column_index] = data.iloc[:, text_column_index].fillna(\"\")\n",
        "\n",
        "def perform_ner(text):\n",
        "    words = word_tokenize(text)#Tokenize the text\n",
        "    pos_tags = pos_tag(words)#Perform part of speech tagging\n",
        "    named_entities = ne_chunk(pos_tags)\n",
        "    return named_entities\n"
      ],
      "metadata": {
        "id": "JH0Vt56zqSp8"
      },
      "execution_count": null,
      "outputs": []
    },
    {
      "cell_type": "markdown",
      "source": [
        "Apply NER to the dataset"
      ],
      "metadata": {
        "id": "a-sC7jPLqSz-"
      }
    },
    {
      "cell_type": "code",
      "source": [
        "data['NER'] = data.iloc[:, text_column_index].apply(perform_ner)\n",
        "\n",
        "print(data[['NER']].head())"
      ],
      "metadata": {
        "colab": {
          "base_uri": "https://localhost:8080/"
        },
        "id": "7_SlilHPqS-w",
        "outputId": "a4a1bcf8-f469-4bf7-9359-0457a9353286"
      },
      "execution_count": null,
      "outputs": [
        {
          "output_type": "stream",
          "name": "stdout",
          "text": [
            "                                                 NER\n",
            "0  [(I, PRP), (am, VBP), (coming, VBG), (to, TO),...\n",
            "1  [(im, NN), (getting, VBG), (on, IN), (borderla...\n",
            "2  [(im, NN), (coming, VBG), (on, IN), (borderlan...\n",
            "3  [(im, NN), (getting, VBG), (on, IN), (borderla...\n",
            "4  [(im, NN), (getting, VBG), (into, IN), (border...\n"
          ]
        }
      ]
    },
    {
      "cell_type": "markdown",
      "source": [
        "perform sentiment analysis"
      ],
      "metadata": {
        "id": "aisQ9IHvxPdJ"
      }
    },
    {
      "cell_type": "code",
      "source": [
        "sia = SentimentIntensityAnalyzer()\n",
        "def analyze_sentiment(text):\n",
        "    sentiment_score = sia.polarity_scores(text)\n",
        "    return sentiment_score\n",
        "data['Sentiment'] = data.iloc[:, text_column_index].apply(analyze_sentiment)\n",
        "print(data[['Sentiment']].head())\n"
      ],
      "metadata": {
        "colab": {
          "base_uri": "https://localhost:8080/"
        },
        "id": "gbzTwpdAxPux",
        "outputId": "219adbb6-f2fd-407d-bcb2-1ec0f21c8328"
      },
      "execution_count": null,
      "outputs": [
        {
          "output_type": "stream",
          "name": "stdout",
          "text": [
            "                                           Sentiment\n",
            "0  {'neg': 0.343, 'neu': 0.657, 'pos': 0.0, 'comp...\n",
            "1  {'neg': 0.37, 'neu': 0.63, 'pos': 0.0, 'compou...\n",
            "2  {'neg': 0.37, 'neu': 0.63, 'pos': 0.0, 'compou...\n",
            "3  {'neg': 0.343, 'neu': 0.657, 'pos': 0.0, 'comp...\n",
            "4  {'neg': 0.37, 'neu': 0.63, 'pos': 0.0, 'compou...\n"
          ]
        }
      ]
    },
    {
      "cell_type": "markdown",
      "source": [
        "Print the final results"
      ],
      "metadata": {
        "id": "liOpqVLDxQEl"
      }
    },
    {
      "cell_type": "code",
      "source": [
        "print(data[['Sentiment', 'NER']])"
      ],
      "metadata": {
        "colab": {
          "base_uri": "https://localhost:8080/"
        },
        "id": "oyk2yTl2xQVE",
        "outputId": "36f34fb5-71ca-4503-e95c-9e679670ecb6"
      },
      "execution_count": null,
      "outputs": [
        {
          "output_type": "stream",
          "name": "stdout",
          "text": [
            "                                               Sentiment  \\\n",
            "0      {'neg': 0.343, 'neu': 0.657, 'pos': 0.0, 'comp...   \n",
            "1      {'neg': 0.37, 'neu': 0.63, 'pos': 0.0, 'compou...   \n",
            "2      {'neg': 0.37, 'neu': 0.63, 'pos': 0.0, 'compou...   \n",
            "3      {'neg': 0.343, 'neu': 0.657, 'pos': 0.0, 'comp...   \n",
            "4      {'neg': 0.37, 'neu': 0.63, 'pos': 0.0, 'compou...   \n",
            "...                                                  ...   \n",
            "63767  {'neg': 0.0, 'neu': 1.0, 'pos': 0.0, 'compound...   \n",
            "63768  {'neg': 0.0, 'neu': 1.0, 'pos': 0.0, 'compound...   \n",
            "63769  {'neg': 0.0, 'neu': 1.0, 'pos': 0.0, 'compound...   \n",
            "63770  {'neg': 0.0, 'neu': 1.0, 'pos': 0.0, 'compound...   \n",
            "63771  {'neg': 0.0, 'neu': 1.0, 'pos': 0.0, 'compound...   \n",
            "\n",
            "                                                     NER  \n",
            "0      [(I, PRP), (am, VBP), (coming, VBG), (to, TO),...  \n",
            "1      [(im, NN), (getting, VBG), (on, IN), (borderla...  \n",
            "2      [(im, NN), (coming, VBG), (on, IN), (borderlan...  \n",
            "3      [(im, NN), (getting, VBG), (on, IN), (borderla...  \n",
            "4      [(im, NN), (getting, VBG), (into, IN), (border...  \n",
            "...                                                  ...  \n",
            "63767                                        [(nan, NN)]  \n",
            "63768                                        [(nan, NN)]  \n",
            "63769                                        [(nan, NN)]  \n",
            "63770                                        [(nan, NN)]  \n",
            "63771                                        [(nan, NN)]  \n",
            "\n",
            "[63772 rows x 2 columns]\n"
          ]
        }
      ]
    }
  ]
}