{
  "cells": [
    {
      "cell_type": "markdown",
      "metadata": {
        "id": "3YYhU1NnuYNn"
      },
      "source": [
        "Task 37-> NLP Preprocessing  "
      ]
    },
    {
      "cell_type": "markdown",
      "metadata": {
        "id": "FmgPhop8uZpH"
      },
      "source": [
        "Go through some common text preprocessing techniques and demonstrate them by applying them to different\n",
        "datasets."
      ]
    },
    {
      "cell_type": "markdown",
      "metadata": {
        "id": "7GoaryeZuh3B"
      },
      "source": [
        "importing necessary libraries"
      ]
    },
    {
      "cell_type": "code",
      "execution_count": 15,
      "metadata": {
        "colab": {
          "base_uri": "https://localhost:8080/"
        },
        "id": "hmdX9RQ2uXTv",
        "outputId": "68a2c394-b2cf-41f5-e990-831fd6b65adc"
      },
      "outputs": [
        {
          "name": "stderr",
          "output_type": "stream",
          "text": [
            "[nltk_data] Downloading package punkt to /root/nltk_data...\n",
            "[nltk_data]   Package punkt is already up-to-date!\n",
            "[nltk_data] Downloading package stopwords to /root/nltk_data...\n",
            "[nltk_data]   Package stopwords is already up-to-date!\n",
            "[nltk_data] Downloading package wordnet to /root/nltk_data...\n"
          ]
        },
        {
          "data": {
            "text/plain": [
              "True"
            ]
          },
          "execution_count": 15,
          "metadata": {},
          "output_type": "execute_result"
        }
      ],
      "source": [
        "import pandas as pd\n",
        "import string\n",
        "import nltk\n",
        "from nltk.corpus import stopwords\n",
        "from nltk.tokenize import word_tokenize\n",
        "from nltk.stem import PorterStemmer, WordNetLemmatizer\n",
        "\n",
        "\n",
        "nltk.download('punkt')\n",
        "nltk.download('stopwords')\n",
        "nltk.download('wordnet')\n",
        "\n",
        "\n"
      ]
    },
    {
      "cell_type": "markdown",
      "metadata": {
        "id": "9DttAzXCxoEH"
      },
      "source": [
        "importing datasets"
      ]
    },
    {
      "cell_type": "markdown",
      "metadata": {
        "id": "grseZFfsyEi1"
      },
      "source": [
        "importing spam dataset"
      ]
    },
    {
      "cell_type": "code",
      "execution_count": 2,
      "metadata": {
        "colab": {
          "base_uri": "https://localhost:8080/",
          "height": 73
        },
        "id": "3xcVDxBjxoT_",
        "outputId": "1f0215e7-9fd8-4d82-dd12-ff914e595739"
      },
      "outputs": [
        {
          "data": {
            "text/html": [
              "\n",
              "     <input type=\"file\" id=\"files-66650907-71ee-4483-862c-4303ec301986\" name=\"files[]\" multiple disabled\n",
              "        style=\"border:none\" />\n",
              "     <output id=\"result-66650907-71ee-4483-862c-4303ec301986\">\n",
              "      Upload widget is only available when the cell has been executed in the\n",
              "      current browser session. Please rerun this cell to enable.\n",
              "      </output>\n",
              "      <script>// Copyright 2017 Google LLC\n",
              "//\n",
              "// Licensed under the Apache License, Version 2.0 (the \"License\");\n",
              "// you may not use this file except in compliance with the License.\n",
              "// You may obtain a copy of the License at\n",
              "//\n",
              "//      http://www.apache.org/licenses/LICENSE-2.0\n",
              "//\n",
              "// Unless required by applicable law or agreed to in writing, software\n",
              "// distributed under the License is distributed on an \"AS IS\" BASIS,\n",
              "// WITHOUT WARRANTIES OR CONDITIONS OF ANY KIND, either express or implied.\n",
              "// See the License for the specific language governing permissions and\n",
              "// limitations under the License.\n",
              "\n",
              "/**\n",
              " * @fileoverview Helpers for google.colab Python module.\n",
              " */\n",
              "(function(scope) {\n",
              "function span(text, styleAttributes = {}) {\n",
              "  const element = document.createElement('span');\n",
              "  element.textContent = text;\n",
              "  for (const key of Object.keys(styleAttributes)) {\n",
              "    element.style[key] = styleAttributes[key];\n",
              "  }\n",
              "  return element;\n",
              "}\n",
              "\n",
              "// Max number of bytes which will be uploaded at a time.\n",
              "const MAX_PAYLOAD_SIZE = 100 * 1024;\n",
              "\n",
              "function _uploadFiles(inputId, outputId) {\n",
              "  const steps = uploadFilesStep(inputId, outputId);\n",
              "  const outputElement = document.getElementById(outputId);\n",
              "  // Cache steps on the outputElement to make it available for the next call\n",
              "  // to uploadFilesContinue from Python.\n",
              "  outputElement.steps = steps;\n",
              "\n",
              "  return _uploadFilesContinue(outputId);\n",
              "}\n",
              "\n",
              "// This is roughly an async generator (not supported in the browser yet),\n",
              "// where there are multiple asynchronous steps and the Python side is going\n",
              "// to poll for completion of each step.\n",
              "// This uses a Promise to block the python side on completion of each step,\n",
              "// then passes the result of the previous step as the input to the next step.\n",
              "function _uploadFilesContinue(outputId) {\n",
              "  const outputElement = document.getElementById(outputId);\n",
              "  const steps = outputElement.steps;\n",
              "\n",
              "  const next = steps.next(outputElement.lastPromiseValue);\n",
              "  return Promise.resolve(next.value.promise).then((value) => {\n",
              "    // Cache the last promise value to make it available to the next\n",
              "    // step of the generator.\n",
              "    outputElement.lastPromiseValue = value;\n",
              "    return next.value.response;\n",
              "  });\n",
              "}\n",
              "\n",
              "/**\n",
              " * Generator function which is called between each async step of the upload\n",
              " * process.\n",
              " * @param {string} inputId Element ID of the input file picker element.\n",
              " * @param {string} outputId Element ID of the output display.\n",
              " * @return {!Iterable<!Object>} Iterable of next steps.\n",
              " */\n",
              "function* uploadFilesStep(inputId, outputId) {\n",
              "  const inputElement = document.getElementById(inputId);\n",
              "  inputElement.disabled = false;\n",
              "\n",
              "  const outputElement = document.getElementById(outputId);\n",
              "  outputElement.innerHTML = '';\n",
              "\n",
              "  const pickedPromise = new Promise((resolve) => {\n",
              "    inputElement.addEventListener('change', (e) => {\n",
              "      resolve(e.target.files);\n",
              "    });\n",
              "  });\n",
              "\n",
              "  const cancel = document.createElement('button');\n",
              "  inputElement.parentElement.appendChild(cancel);\n",
              "  cancel.textContent = 'Cancel upload';\n",
              "  const cancelPromise = new Promise((resolve) => {\n",
              "    cancel.onclick = () => {\n",
              "      resolve(null);\n",
              "    };\n",
              "  });\n",
              "\n",
              "  // Wait for the user to pick the files.\n",
              "  const files = yield {\n",
              "    promise: Promise.race([pickedPromise, cancelPromise]),\n",
              "    response: {\n",
              "      action: 'starting',\n",
              "    }\n",
              "  };\n",
              "\n",
              "  cancel.remove();\n",
              "\n",
              "  // Disable the input element since further picks are not allowed.\n",
              "  inputElement.disabled = true;\n",
              "\n",
              "  if (!files) {\n",
              "    return {\n",
              "      response: {\n",
              "        action: 'complete',\n",
              "      }\n",
              "    };\n",
              "  }\n",
              "\n",
              "  for (const file of files) {\n",
              "    const li = document.createElement('li');\n",
              "    li.append(span(file.name, {fontWeight: 'bold'}));\n",
              "    li.append(span(\n",
              "        `(${file.type || 'n/a'}) - ${file.size} bytes, ` +\n",
              "        `last modified: ${\n",
              "            file.lastModifiedDate ? file.lastModifiedDate.toLocaleDateString() :\n",
              "                                    'n/a'} - `));\n",
              "    const percent = span('0% done');\n",
              "    li.appendChild(percent);\n",
              "\n",
              "    outputElement.appendChild(li);\n",
              "\n",
              "    const fileDataPromise = new Promise((resolve) => {\n",
              "      const reader = new FileReader();\n",
              "      reader.onload = (e) => {\n",
              "        resolve(e.target.result);\n",
              "      };\n",
              "      reader.readAsArrayBuffer(file);\n",
              "    });\n",
              "    // Wait for the data to be ready.\n",
              "    let fileData = yield {\n",
              "      promise: fileDataPromise,\n",
              "      response: {\n",
              "        action: 'continue',\n",
              "      }\n",
              "    };\n",
              "\n",
              "    // Use a chunked sending to avoid message size limits. See b/62115660.\n",
              "    let position = 0;\n",
              "    do {\n",
              "      const length = Math.min(fileData.byteLength - position, MAX_PAYLOAD_SIZE);\n",
              "      const chunk = new Uint8Array(fileData, position, length);\n",
              "      position += length;\n",
              "\n",
              "      const base64 = btoa(String.fromCharCode.apply(null, chunk));\n",
              "      yield {\n",
              "        response: {\n",
              "          action: 'append',\n",
              "          file: file.name,\n",
              "          data: base64,\n",
              "        },\n",
              "      };\n",
              "\n",
              "      let percentDone = fileData.byteLength === 0 ?\n",
              "          100 :\n",
              "          Math.round((position / fileData.byteLength) * 100);\n",
              "      percent.textContent = `${percentDone}% done`;\n",
              "\n",
              "    } while (position < fileData.byteLength);\n",
              "  }\n",
              "\n",
              "  // All done.\n",
              "  yield {\n",
              "    response: {\n",
              "      action: 'complete',\n",
              "    }\n",
              "  };\n",
              "}\n",
              "\n",
              "scope.google = scope.google || {};\n",
              "scope.google.colab = scope.google.colab || {};\n",
              "scope.google.colab._files = {\n",
              "  _uploadFiles,\n",
              "  _uploadFilesContinue,\n",
              "};\n",
              "})(self);\n",
              "</script> "
            ],
            "text/plain": [
              "<IPython.core.display.HTML object>"
            ]
          },
          "metadata": {},
          "output_type": "display_data"
        },
        {
          "name": "stdout",
          "output_type": "stream",
          "text": [
            "Saving sms_spam.csv to sms_spam.csv\n"
          ]
        }
      ],
      "source": [
        "from google.colab import files\n",
        "uploaded = files.upload()\n",
        "df_spam = pd.read_csv('sms_spam.csv', encoding='latin-1')\n",
        "\n",
        "df_spam = df_spam.iloc[:, :2]\n",
        "df_spam.columns = ['label', 'text']"
      ]
    },
    {
      "cell_type": "markdown",
      "metadata": {
        "id": "p3wCBNj3yQJl"
      },
      "source": [
        "importing movie review dataset"
      ]
    },
    {
      "cell_type": "code",
      "execution_count": 3,
      "metadata": {
        "colab": {
          "base_uri": "https://localhost:8080/",
          "height": 73
        },
        "id": "yuC-ABJyxu74",
        "outputId": "beac8306-4af8-4e54-9031-a3433effc965"
      },
      "outputs": [
        {
          "data": {
            "text/html": [
              "\n",
              "     <input type=\"file\" id=\"files-e8c7876c-cbc2-44c8-8c1f-ea16b634e624\" name=\"files[]\" multiple disabled\n",
              "        style=\"border:none\" />\n",
              "     <output id=\"result-e8c7876c-cbc2-44c8-8c1f-ea16b634e624\">\n",
              "      Upload widget is only available when the cell has been executed in the\n",
              "      current browser session. Please rerun this cell to enable.\n",
              "      </output>\n",
              "      <script>// Copyright 2017 Google LLC\n",
              "//\n",
              "// Licensed under the Apache License, Version 2.0 (the \"License\");\n",
              "// you may not use this file except in compliance with the License.\n",
              "// You may obtain a copy of the License at\n",
              "//\n",
              "//      http://www.apache.org/licenses/LICENSE-2.0\n",
              "//\n",
              "// Unless required by applicable law or agreed to in writing, software\n",
              "// distributed under the License is distributed on an \"AS IS\" BASIS,\n",
              "// WITHOUT WARRANTIES OR CONDITIONS OF ANY KIND, either express or implied.\n",
              "// See the License for the specific language governing permissions and\n",
              "// limitations under the License.\n",
              "\n",
              "/**\n",
              " * @fileoverview Helpers for google.colab Python module.\n",
              " */\n",
              "(function(scope) {\n",
              "function span(text, styleAttributes = {}) {\n",
              "  const element = document.createElement('span');\n",
              "  element.textContent = text;\n",
              "  for (const key of Object.keys(styleAttributes)) {\n",
              "    element.style[key] = styleAttributes[key];\n",
              "  }\n",
              "  return element;\n",
              "}\n",
              "\n",
              "// Max number of bytes which will be uploaded at a time.\n",
              "const MAX_PAYLOAD_SIZE = 100 * 1024;\n",
              "\n",
              "function _uploadFiles(inputId, outputId) {\n",
              "  const steps = uploadFilesStep(inputId, outputId);\n",
              "  const outputElement = document.getElementById(outputId);\n",
              "  // Cache steps on the outputElement to make it available for the next call\n",
              "  // to uploadFilesContinue from Python.\n",
              "  outputElement.steps = steps;\n",
              "\n",
              "  return _uploadFilesContinue(outputId);\n",
              "}\n",
              "\n",
              "// This is roughly an async generator (not supported in the browser yet),\n",
              "// where there are multiple asynchronous steps and the Python side is going\n",
              "// to poll for completion of each step.\n",
              "// This uses a Promise to block the python side on completion of each step,\n",
              "// then passes the result of the previous step as the input to the next step.\n",
              "function _uploadFilesContinue(outputId) {\n",
              "  const outputElement = document.getElementById(outputId);\n",
              "  const steps = outputElement.steps;\n",
              "\n",
              "  const next = steps.next(outputElement.lastPromiseValue);\n",
              "  return Promise.resolve(next.value.promise).then((value) => {\n",
              "    // Cache the last promise value to make it available to the next\n",
              "    // step of the generator.\n",
              "    outputElement.lastPromiseValue = value;\n",
              "    return next.value.response;\n",
              "  });\n",
              "}\n",
              "\n",
              "/**\n",
              " * Generator function which is called between each async step of the upload\n",
              " * process.\n",
              " * @param {string} inputId Element ID of the input file picker element.\n",
              " * @param {string} outputId Element ID of the output display.\n",
              " * @return {!Iterable<!Object>} Iterable of next steps.\n",
              " */\n",
              "function* uploadFilesStep(inputId, outputId) {\n",
              "  const inputElement = document.getElementById(inputId);\n",
              "  inputElement.disabled = false;\n",
              "\n",
              "  const outputElement = document.getElementById(outputId);\n",
              "  outputElement.innerHTML = '';\n",
              "\n",
              "  const pickedPromise = new Promise((resolve) => {\n",
              "    inputElement.addEventListener('change', (e) => {\n",
              "      resolve(e.target.files);\n",
              "    });\n",
              "  });\n",
              "\n",
              "  const cancel = document.createElement('button');\n",
              "  inputElement.parentElement.appendChild(cancel);\n",
              "  cancel.textContent = 'Cancel upload';\n",
              "  const cancelPromise = new Promise((resolve) => {\n",
              "    cancel.onclick = () => {\n",
              "      resolve(null);\n",
              "    };\n",
              "  });\n",
              "\n",
              "  // Wait for the user to pick the files.\n",
              "  const files = yield {\n",
              "    promise: Promise.race([pickedPromise, cancelPromise]),\n",
              "    response: {\n",
              "      action: 'starting',\n",
              "    }\n",
              "  };\n",
              "\n",
              "  cancel.remove();\n",
              "\n",
              "  // Disable the input element since further picks are not allowed.\n",
              "  inputElement.disabled = true;\n",
              "\n",
              "  if (!files) {\n",
              "    return {\n",
              "      response: {\n",
              "        action: 'complete',\n",
              "      }\n",
              "    };\n",
              "  }\n",
              "\n",
              "  for (const file of files) {\n",
              "    const li = document.createElement('li');\n",
              "    li.append(span(file.name, {fontWeight: 'bold'}));\n",
              "    li.append(span(\n",
              "        `(${file.type || 'n/a'}) - ${file.size} bytes, ` +\n",
              "        `last modified: ${\n",
              "            file.lastModifiedDate ? file.lastModifiedDate.toLocaleDateString() :\n",
              "                                    'n/a'} - `));\n",
              "    const percent = span('0% done');\n",
              "    li.appendChild(percent);\n",
              "\n",
              "    outputElement.appendChild(li);\n",
              "\n",
              "    const fileDataPromise = new Promise((resolve) => {\n",
              "      const reader = new FileReader();\n",
              "      reader.onload = (e) => {\n",
              "        resolve(e.target.result);\n",
              "      };\n",
              "      reader.readAsArrayBuffer(file);\n",
              "    });\n",
              "    // Wait for the data to be ready.\n",
              "    let fileData = yield {\n",
              "      promise: fileDataPromise,\n",
              "      response: {\n",
              "        action: 'continue',\n",
              "      }\n",
              "    };\n",
              "\n",
              "    // Use a chunked sending to avoid message size limits. See b/62115660.\n",
              "    let position = 0;\n",
              "    do {\n",
              "      const length = Math.min(fileData.byteLength - position, MAX_PAYLOAD_SIZE);\n",
              "      const chunk = new Uint8Array(fileData, position, length);\n",
              "      position += length;\n",
              "\n",
              "      const base64 = btoa(String.fromCharCode.apply(null, chunk));\n",
              "      yield {\n",
              "        response: {\n",
              "          action: 'append',\n",
              "          file: file.name,\n",
              "          data: base64,\n",
              "        },\n",
              "      };\n",
              "\n",
              "      let percentDone = fileData.byteLength === 0 ?\n",
              "          100 :\n",
              "          Math.round((position / fileData.byteLength) * 100);\n",
              "      percent.textContent = `${percentDone}% done`;\n",
              "\n",
              "    } while (position < fileData.byteLength);\n",
              "  }\n",
              "\n",
              "  // All done.\n",
              "  yield {\n",
              "    response: {\n",
              "      action: 'complete',\n",
              "    }\n",
              "  };\n",
              "}\n",
              "\n",
              "scope.google = scope.google || {};\n",
              "scope.google.colab = scope.google.colab || {};\n",
              "scope.google.colab._files = {\n",
              "  _uploadFiles,\n",
              "  _uploadFilesContinue,\n",
              "};\n",
              "})(self);\n",
              "</script> "
            ],
            "text/plain": [
              "<IPython.core.display.HTML object>"
            ]
          },
          "metadata": {},
          "output_type": "display_data"
        },
        {
          "name": "stdout",
          "output_type": "stream",
          "text": [
            "Saving movie_review.csv to movie_review.csv\n"
          ]
        }
      ],
      "source": [
        "from google.colab import files\n",
        "uploaded = files.upload()\n",
        "\n",
        "df_movie = pd.read_csv('movie_review.csv')\n"
      ]
    },
    {
      "cell_type": "markdown",
      "metadata": {
        "id": "C_A-Is8vxB_F"
      },
      "source": [
        "Basic info for Datasets"
      ]
    },
    {
      "cell_type": "code",
      "execution_count": 4,
      "metadata": {
        "colab": {
          "base_uri": "https://localhost:8080/"
        },
        "id": "XnmmBzsIxCUb",
        "outputId": "93c45bb3-338b-4d11-97d2-ea79d33b9fe5"
      },
      "outputs": [
        {
          "name": "stdout",
          "output_type": "stream",
          "text": [
            "Spam Dataset Information:\n",
            "<class 'pandas.core.frame.DataFrame'>\n",
            "RangeIndex: 29 entries, 0 to 28\n",
            "Data columns (total 2 columns):\n",
            " #   Column  Non-Null Count  Dtype \n",
            "---  ------  --------------  ----- \n",
            " 0   label   29 non-null     object\n",
            " 1   text    29 non-null     object\n",
            "dtypes: object(2)\n",
            "memory usage: 592.0+ bytes\n",
            "None\n",
            "\n",
            "First few rows of the Spam dataset:\n",
            "  label                                               text\n",
            "0   ham  Go until jurong point, crazy.. Available only ...\n",
            "1   ham                      Ok lar... Joking wif u oni...\n",
            "2  spam  Free entry in 2 a wkly comp to win FA Cup fina...\n",
            "3   ham  U dun say so early hor... U c already then say...\n",
            "4   ham  Nah I don't think he goes to usf, he lives aro...\n",
            "\n",
            "Movie Review Dataset Information:\n",
            "<class 'pandas.core.frame.DataFrame'>\n",
            "RangeIndex: 18 entries, 0 to 17\n",
            "Data columns (total 6 columns):\n",
            " #   Column   Non-Null Count  Dtype \n",
            "---  ------   --------------  ----- \n",
            " 0   fold_id  18 non-null     int64 \n",
            " 1   cv_tag   18 non-null     object\n",
            " 2   html_id  18 non-null     int64 \n",
            " 3   sent_id  18 non-null     int64 \n",
            " 4   text     18 non-null     object\n",
            " 5   tag      18 non-null     object\n",
            "dtypes: int64(3), object(3)\n",
            "memory usage: 992.0+ bytes\n",
            "None\n",
            "\n",
            "First few rows of the Movie Review dataset:\n",
            "   fold_id cv_tag  html_id  sent_id  \\\n",
            "0       23    cvv    29590       98   \n",
            "1       24    cvd    29590        1   \n",
            "2       25    cve    29590        2   \n",
            "3       26    cvf    29590        3   \n",
            "4       27    cvk    29590        4   \n",
            "\n",
            "                                                text  tag  \n",
            "0  films adapted from comic books have had plenty...  pos  \n",
            "1  for starters , it was created by alan moore ( ...  pos  \n",
            "2  to say moore and campbell thoroughly researche...  pos  \n",
            "3  the book ( or \" graphic novel , \" if you will ...  pos  \n",
            "4  in other words , don't dismiss this film becau...  pos  \n"
          ]
        }
      ],
      "source": [
        "print(\"Spam Dataset Information:\")\n",
        "print(df_spam.info())\n",
        "print(\"\\nFirst few rows of the Spam dataset:\")\n",
        "print(df_spam.head())\n",
        "\n",
        "print(\"\\nMovie Review Dataset Information:\")\n",
        "print(df_movie.info())\n",
        "print(\"\\nFirst few rows of the Movie Review dataset:\")\n",
        "print(df_movie.head())\n",
        "\n"
      ]
    },
    {
      "cell_type": "markdown",
      "metadata": {
        "id": "sXNwQ-Zoymnr"
      },
      "source": [
        "Convert to lowercase for both datasets"
      ]
    },
    {
      "cell_type": "code",
      "execution_count": 5,
      "metadata": {
        "id": "j5Mm_8hZym7S"
      },
      "outputs": [],
      "source": [
        "df_spam['text'] = df_spam['text'].str.lower()\n",
        "df_movie['text'] = df_movie['text'].str.lower()"
      ]
    },
    {
      "cell_type": "markdown",
      "metadata": {
        "id": "MRPlYvm_ysg7"
      },
      "source": [
        "Remove punctuation for both datasets"
      ]
    },
    {
      "cell_type": "code",
      "execution_count": 6,
      "metadata": {
        "id": "KEmjtYsBysqg"
      },
      "outputs": [],
      "source": [
        "df_spam['text'] = df_spam['text'].str.translate(str.maketrans('', '', string.punctuation))\n",
        "df_movie['text'] = df_movie['text'].str.translate(str.maketrans('', '', string.punctuation))"
      ]
    },
    {
      "cell_type": "markdown",
      "metadata": {
        "id": "GbyK9-4iys0_"
      },
      "source": [
        "Remove stopwords for both datasets"
      ]
    },
    {
      "cell_type": "code",
      "execution_count": 9,
      "metadata": {
        "id": "_LAc1IrcytAA"
      },
      "outputs": [],
      "source": [
        "stop_words = set(stopwords.words('english'))\n",
        "\n",
        "df_spam['text_no_stopwords'] = df_spam['text'].apply(lambda x: ' '.join(word for word in x.split() if word not in stop_words))\n",
        "df_movie['review_no_stopwords'] = df_movie['text'].apply(lambda x: ' '.join(word for word in x.split() if word not in stop_words))"
      ]
    },
    {
      "cell_type": "markdown",
      "metadata": {
        "id": "LAvRLgA7y9gi"
      },
      "source": [
        "Tokenization (Splitting text into words or phrases) for both datasets"
      ]
    },
    {
      "cell_type": "code",
      "execution_count": 12,
      "metadata": {
        "id": "ld-3NGpRy9rC"
      },
      "outputs": [],
      "source": [
        "df_spam['tokens'] = df_spam['text_no_stopwords'].apply(word_tokenize)\n",
        "df_movie['tokens'] = df_movie['review_no_stopwords'].apply(word_tokenize)"
      ]
    },
    {
      "cell_type": "markdown",
      "metadata": {
        "id": "c-OQDKJqzEJK"
      },
      "source": [
        "Stemming (Reducing words to thier root form) for both datasets"
      ]
    },
    {
      "cell_type": "code",
      "execution_count": 13,
      "metadata": {
        "id": "3jWB5gJszETr"
      },
      "outputs": [],
      "source": [
        "stemmer = PorterStemmer()\n",
        "df_spam['tokens_stemmed'] = df_spam['tokens'].apply(lambda x: [stemmer.stem(word) for word in x])\n",
        "df_movie['tokens_stemmed'] = df_movie['tokens'].apply(lambda x: [stemmer.stem(word) for word in x])"
      ]
    },
    {
      "cell_type": "markdown",
      "metadata": {
        "id": "GFjG06_PzEje"
      },
      "source": [
        "Lemmatization (Reducing words to base form) for both datasets"
      ]
    },
    {
      "cell_type": "code",
      "execution_count": 16,
      "metadata": {
        "id": "--72VCdizEwR"
      },
      "outputs": [],
      "source": [
        "lemmatizer = WordNetLemmatizer()\n",
        "df_spam['tokens_lemmatized'] = df_spam['tokens'].apply(lambda x: [lemmatizer.lemmatize(word) for word in x])\n",
        "df_movie['tokens_lemmatized'] = df_movie['tokens'].apply(lambda x: [lemmatizer.lemmatize(word) for word in x])"
      ]
    },
    {
      "cell_type": "markdown",
      "metadata": {
        "id": "e4cHC8AtzRu-"
      },
      "source": [
        "Join tokens back into strings for further processing for both datasets"
      ]
    },
    {
      "cell_type": "code",
      "execution_count": 17,
      "metadata": {
        "id": "bW4HsN5kzR4r"
      },
      "outputs": [],
      "source": [
        "df_spam['text_stemmed'] = df_spam['tokens_stemmed'].apply(lambda x: ' '.join(x))\n",
        "df_spam['text_lemmatized'] = df_spam['tokens_lemmatized'].apply(lambda x: ' '.join(x))\n",
        "\n",
        "df_movie['text_stemmed'] = df_movie['tokens_stemmed'].apply(lambda x: ' '.join(x))\n",
        "df_movie['text_lemmatized'] = df_movie['tokens_lemmatized'].apply(lambda x: ' '.join(x))"
      ]
    },
    {
      "cell_type": "markdown",
      "metadata": {
        "id": "dyuTGCfhzSJd"
      },
      "source": [
        "Display the first few rows of the DataFrames after preprocessing for both datasets"
      ]
    },
    {
      "cell_type": "code",
      "execution_count": 18,
      "metadata": {
        "colab": {
          "base_uri": "https://localhost:8080/"
        },
        "id": "Xgt9TzQIzSSp",
        "outputId": "b63e721f-843d-4d1a-8ed2-423cb4245332"
      },
      "outputs": [
        {
          "name": "stdout",
          "output_type": "stream",
          "text": [
            "\n",
            "Preprocessed Spam Dataset:\n",
            "  label                                               text  \\\n",
            "0   ham  go until jurong point crazy available only in ...   \n",
            "1   ham                            ok lar joking wif u oni   \n",
            "2  spam  free entry in 2 a wkly comp to win fa cup fina...   \n",
            "3   ham        u dun say so early hor u c already then say   \n",
            "4   ham  nah i dont think he goes to usf he lives aroun...   \n",
            "\n",
            "                                   text_no_stopwords  \\\n",
            "0  go jurong point crazy available bugis n great ...   \n",
            "1                            ok lar joking wif u oni   \n",
            "2  free entry 2 wkly comp win fa cup final tkts 2...   \n",
            "3                u dun say early hor u c already say   \n",
            "4        nah dont think goes usf lives around though   \n",
            "\n",
            "                                              tokens  \\\n",
            "0  [go, jurong, point, crazy, available, bugis, n...   \n",
            "1                     [ok, lar, joking, wif, u, oni]   \n",
            "2  [free, entry, 2, wkly, comp, win, fa, cup, fin...   \n",
            "3      [u, dun, say, early, hor, u, c, already, say]   \n",
            "4  [nah, dont, think, goes, usf, lives, around, t...   \n",
            "\n",
            "                                      tokens_stemmed  \\\n",
            "0  [go, jurong, point, crazi, avail, bugi, n, gre...   \n",
            "1                       [ok, lar, joke, wif, u, oni]   \n",
            "2  [free, entri, 2, wkli, comp, win, fa, cup, fin...   \n",
            "3      [u, dun, say, earli, hor, u, c, alreadi, say]   \n",
            "4  [nah, dont, think, goe, usf, live, around, tho...   \n",
            "\n",
            "                                   tokens_lemmatized  \\\n",
            "0  [go, jurong, point, crazy, available, bugis, n...   \n",
            "1                     [ok, lar, joking, wif, u, oni]   \n",
            "2  [free, entry, 2, wkly, comp, win, fa, cup, fin...   \n",
            "3      [u, dun, say, early, hor, u, c, already, say]   \n",
            "4  [nah, dont, think, go, usf, life, around, though]   \n",
            "\n",
            "                                        text_stemmed  \\\n",
            "0  go jurong point crazi avail bugi n great world...   \n",
            "1                              ok lar joke wif u oni   \n",
            "2  free entri 2 wkli comp win fa cup final tkt 21...   \n",
            "3                u dun say earli hor u c alreadi say   \n",
            "4          nah dont think goe usf live around though   \n",
            "\n",
            "                                     text_lemmatized  \n",
            "0  go jurong point crazy available bugis n great ...  \n",
            "1                            ok lar joking wif u oni  \n",
            "2  free entry 2 wkly comp win fa cup final tkts 2...  \n",
            "3                u dun say early hor u c already say  \n",
            "4           nah dont think go usf life around though  \n",
            "\n",
            "Preprocessed Movie Review Dataset:\n",
            "   fold_id cv_tag  html_id  sent_id  \\\n",
            "0       23    cvv    29590       98   \n",
            "1       24    cvd    29590        1   \n",
            "2       25    cve    29590        2   \n",
            "3       26    cvf    29590        3   \n",
            "4       27    cvk    29590        4   \n",
            "\n",
            "                                                text  tag  \\\n",
            "0  films adapted from comic books have had plenty...  pos   \n",
            "1  for starters  it was created by alan moore  an...  pos   \n",
            "2  to say moore and campbell thoroughly researche...  pos   \n",
            "3  the book  or  graphic novel   if you will  is ...  pos   \n",
            "4  in other words  dont dismiss this film because...  pos   \n",
            "\n",
            "                                 review_no_stopwords  \\\n",
            "0  films adapted comic books plenty success wheth...   \n",
            "1  starters created alan moore eddie campbell bro...   \n",
            "2  say moore campbell thoroughly researched subje...   \n",
            "3  book graphic novel 500 pages long includes nea...   \n",
            "4                     words dont dismiss film source   \n",
            "\n",
            "                                              tokens  \\\n",
            "0  [films, adapted, comic, books, plenty, success...   \n",
            "1  [starters, created, alan, moore, eddie, campbe...   \n",
            "2  [say, moore, campbell, thoroughly, researched,...   \n",
            "3  [book, graphic, novel, 500, pages, long, inclu...   \n",
            "4               [words, dont, dismiss, film, source]   \n",
            "\n",
            "                                      tokens_stemmed  \\\n",
            "0  [film, adapt, comic, book, plenti, success, wh...   \n",
            "1  [starter, creat, alan, moor, eddi, campbel, br...   \n",
            "2  [say, moor, campbel, thoroughli, research, sub...   \n",
            "3  [book, graphic, novel, 500, page, long, includ...   \n",
            "4                 [word, dont, dismiss, film, sourc]   \n",
            "\n",
            "                                   tokens_lemmatized  \\\n",
            "0  [film, adapted, comic, book, plenty, success, ...   \n",
            "1  [starter, created, alan, moore, eddie, campbel...   \n",
            "2  [say, moore, campbell, thoroughly, researched,...   \n",
            "3  [book, graphic, novel, 500, page, long, includ...   \n",
            "4                [word, dont, dismiss, film, source]   \n",
            "\n",
            "                                        text_stemmed  \\\n",
            "0  film adapt comic book plenti success whether t...   \n",
            "1  starter creat alan moor eddi campbel brought m...   \n",
            "2  say moor campbel thoroughli research subject j...   \n",
            "3  book graphic novel 500 page long includ nearli...   \n",
            "4                       word dont dismiss film sourc   \n",
            "\n",
            "                                     text_lemmatized  \n",
            "0  film adapted comic book plenty success whether...  \n",
            "1  starter created alan moore eddie campbell brou...  \n",
            "2  say moore campbell thoroughly researched subje...  \n",
            "3  book graphic novel 500 page long includes near...  \n",
            "4                      word dont dismiss film source  \n"
          ]
        }
      ],
      "source": [
        "print(\"\\nPreprocessed Spam Dataset:\")\n",
        "print(df_spam.head())\n",
        "\n",
        "print(\"\\nPreprocessed Movie Review Dataset:\")\n",
        "print(df_movie.head())"
      ]
    }
  ],
  "metadata": {
    "colab": {
      "provenance": [],
      "toc_visible": true
    },
    "kernelspec": {
      "display_name": "Python 3",
      "name": "python3"
    }
  },
  "nbformat": 4,
  "nbformat_minor": 0
}
