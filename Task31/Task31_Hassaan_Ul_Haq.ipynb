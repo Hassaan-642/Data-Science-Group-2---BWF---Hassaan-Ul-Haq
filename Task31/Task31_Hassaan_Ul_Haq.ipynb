{
 "cells": [
  {
   "cell_type": "markdown",
   "id": "46ca0789-19b7-4753-9632-4ca656b1ed34",
   "metadata": {},
   "source": [
    "# Task 31-> Dimensionality Reduction Techniques"
   ]
  },
  {
   "cell_type": "markdown",
   "id": "d71bc45b-1a82-4142-b7f1-19858ce6fc02",
   "metadata": {},
   "source": [
    "### \n",
    "Dimensionality reduction techniques simplify complex datasets, reduce computational costs, and help \n",
    "prevent overfitting in machine learning models. Common methods include Principal Component Analysis \n",
    "(PCA), which transforms data into principal components with the greatest variance; Linear Discriminant \n",
    "Analysis (LDA), which finds linear combinations of features that best separate classes; and \n",
    "t-Distributed Stochastic Neighbor Embedding (t-SNE), a non-linear technique for visualizing \n",
    "high-dimensional data. Other techniques include Independent Component Analysis (ICA) for separating a \n",
    "multivariate signal into independent components, and feature selection methods like SelectKBest and \n",
    "Recursive Feature Elimination (RFE). To see the impact of these techniques, pick a high-dimensional \n",
    "dataset and observe how the results of a model change when dimensionality reduction is applied. \n",
    "This will help you understand the effectiveness of each technique in improving model performance."
   ]
  },
  {
   "cell_type": "markdown",
   "id": "b8b61351-7673-4a60-8d5a-545ff6608427",
   "metadata": {},
   "source": [
    "### importing necessary libraries and dataset"
   ]
  },
  {
   "cell_type": "code",
   "execution_count": 49,
   "id": "3dc72924-4e6c-44f9-83ba-ff91da3f7f5d",
   "metadata": {},
   "outputs": [],
   "source": [
    "import pandas as pd\n",
    "from sklearn.decomposition import PCA, FastICA\n",
    "from sklearn.discriminant_analysis import LinearDiscriminantAnalysis as LDA\n",
    "from sklearn.manifold import TSNE\n",
    "from sklearn.feature_selection import SelectKBest, f_classif, RFE\n",
    "from sklearn.model_selection import train_test_split\n",
    "from sklearn.preprocessing import StandardScaler\n",
    "from sklearn.metrics import accuracy_score\n",
    "from sklearn.linear_model import LogisticRegression\n",
    "\n",
    "file_path = r'C:\\Users\\Huawei\\Desktop\\Iris.csv'\n",
    "data = pd.read_csv(file_path)"
   ]
  },
  {
   "cell_type": "markdown",
   "id": "3898b8c9-5f57-43c4-889b-61402bf93308",
   "metadata": {},
   "source": [
    "### Define features and target"
   ]
  },
  {
   "cell_type": "code",
   "execution_count": 50,
   "id": "d86938ae-5a50-4db2-ada2-5fb75145c9ac",
   "metadata": {},
   "outputs": [],
   "source": [
    "X = data.drop(['Id', 'Species'], axis=1)\n",
    "y = data['Species']"
   ]
  },
  {
   "cell_type": "markdown",
   "id": "80a71f81-d671-4b98-b156-ea1e3e05b215",
   "metadata": {},
   "source": [
    "### Encode target variable"
   ]
  },
  {
   "cell_type": "code",
   "execution_count": 51,
   "id": "8497b6cc-d4fa-4c0b-ab07-c002a54e1157",
   "metadata": {},
   "outputs": [],
   "source": [
    "y = pd.factorize(y)[0]#0 represents the list of numbers representing each unique value."
   ]
  },
  {
   "cell_type": "markdown",
   "id": "197ad880-b4a6-4656-bf8a-f718612baa37",
   "metadata": {},
   "source": [
    "### Standardize the features"
   ]
  },
  {
   "cell_type": "code",
   "execution_count": 52,
   "id": "ce9b0b01-88e8-47a3-b183-3c6729cc19c8",
   "metadata": {},
   "outputs": [],
   "source": [
    "scaler = StandardScaler()\n",
    "X_scaled = scaler.fit_transform(X)"
   ]
  },
  {
   "cell_type": "markdown",
   "id": "1edff449-1941-40fb-b874-b387845d657d",
   "metadata": {},
   "source": [
    "### Split the data into training and testing sets"
   ]
  },
  {
   "cell_type": "code",
   "execution_count": 54,
   "id": "253fad3f-ac8d-4c0e-9c09-20da5c8ae98b",
   "metadata": {},
   "outputs": [],
   "source": [
    "X_train, X_test, y_train, y_test = train_test_split(X_scaled, y, test_size=0.2, random_state=42)"
   ]
  },
  {
   "cell_type": "markdown",
   "id": "a60beced-2e00-49ea-b907-ae753359e693",
   "metadata": {},
   "source": [
    "### Principal Component Analysis (PCA)"
   ]
  },
  {
   "cell_type": "code",
   "execution_count": 55,
   "id": "2d22fddc-eda7-4207-bbdb-6dcdf8ac311d",
   "metadata": {},
   "outputs": [
    {
     "name": "stdout",
     "output_type": "stream",
     "text": [
      "PCA Accuracy:  90.0\n"
     ]
    }
   ],
   "source": [
    "pca = PCA(n_components=2)#n_components=2 specifies that pca algorithm should reduce the data to 2 dimensions.\n",
    "X_train_pca = pca.fit_transform(X_train)\n",
    "X_test_pca = pca.transform(X_test)\n",
    "model.fit(X_train_pca, y_train)\n",
    "y_pred_pca = model.predict(X_test_pca)\n",
    "pca_accuracy = accuracy_score(y_test, y_pred_pca)\n",
    "print(\"PCA Accuracy: \", pca_accuracy*100)"
   ]
  },
  {
   "cell_type": "markdown",
   "id": "e7379591-73de-4753-bcd9-d4e37ced802e",
   "metadata": {},
   "source": [
    "### Linear Discriminant Analysis (LDA)"
   ]
  },
  {
   "cell_type": "code",
   "execution_count": 56,
   "id": "14a9ae5f-37c1-4689-8a08-cf203727d38d",
   "metadata": {},
   "outputs": [
    {
     "name": "stdout",
     "output_type": "stream",
     "text": [
      "LDA Accuracy:  100.0\n"
     ]
    }
   ],
   "source": [
    "lda = LDA(n_components=2)\n",
    "X_train_lda = lda.fit_transform(X_train, y_train)\n",
    "X_test_lda = lda.transform(X_test)\n",
    "model.fit(X_train_lda, y_train)\n",
    "y_pred_lda = model.predict(X_test_lda)\n",
    "lda_accuracy = accuracy_score(y_test, y_pred_lda)\n",
    "print(\"LDA Accuracy: \", lda_accuracy*100)"
   ]
  },
  {
   "cell_type": "markdown",
   "id": "1d91b704-cf52-47cc-88de-3ab89f47f64e",
   "metadata": {},
   "source": [
    "### t-Distributed Stochastic Neighbor Embedding (t-SNE)"
   ]
  },
  {
   "cell_type": "code",
   "execution_count": null,
   "id": "db60f416-06ef-448c-a7af-f5139abc85fd",
   "metadata": {},
   "outputs": [
    {
     "name": "stdout",
     "output_type": "stream",
     "text": [
      "t-SNE Accuracy:  96.66666666666667\n"
     ]
    }
   ],
   "source": [
    "tsne = TSNE(n_components=2, random_state=42, perplexity=10)\n",
    "#perplexity should be set to value less than the number of samples in the dataset to achieve better accuracy.\n",
    "X_combined = np.vstack((X_train, X_test))\n",
    "X_combined_tsne = tsne.fit_transform(X_combined)\n",
    "X_train_tsne = X_combined_tsne[:X_train.shape[0]]\n",
    "X_test_tsne = X_combined_tsne[X_train.shape[0]:]\n",
    "model.fit(X_train_tsne, y_train)\n",
    "y_pred_tsne = model.predict(X_test_tsne)\n",
    "tsne_accuracy = accuracy_score(y_test, y_pred_tsne)\n",
    "print(\"t-SNE Accuracy: \", tsne_accuracy*100)"
   ]
  },
  {
   "cell_type": "markdown",
   "id": "0c6dbe7d-a637-46b4-97e9-557c7a2c1020",
   "metadata": {},
   "source": [
    "### Independent Component Analysis (ICA)"
   ]
  },
  {
   "cell_type": "code",
   "execution_count": 58,
   "id": "9432cab4-fa9a-4434-b974-9462774e1c5d",
   "metadata": {},
   "outputs": [
    {
     "name": "stdout",
     "output_type": "stream",
     "text": [
      "ICA Accuracy:  93.33333333333333\n"
     ]
    },
    {
     "name": "stderr",
     "output_type": "stream",
     "text": [
      "C:\\Users\\Huawei\\anaconda3\\Lib\\site-packages\\sklearn\\decomposition\\_fastica.py:542: FutureWarning: Starting in v1.3, whiten='unit-variance' will be used by default.\n",
      "  warnings.warn(\n"
     ]
    }
   ],
   "source": [
    "ica = FastICA(n_components=2, random_state=42)\n",
    "X_train_ica = ica.fit_transform(X_train)\n",
    "X_test_ica = ica.transform(X_test)\n",
    "model.fit(X_train_ica, y_train)\n",
    "y_pred_ica = model.predict(X_test_ica)\n",
    "ica_accuracy = accuracy_score(y_test, y_pred_ica)\n",
    "print(\"ICA Accuracy: \", ica_accuracy*100)"
   ]
  },
  {
   "cell_type": "markdown",
   "id": "1c478deb-2c65-4241-bb43-2090a957d8c5",
   "metadata": {},
   "source": [
    "### Feature Selection (SelectKBest)"
   ]
  },
  {
   "cell_type": "code",
   "execution_count": 59,
   "id": "6fc49392-88ab-4c49-9e4c-5dc82ce75a96",
   "metadata": {},
   "outputs": [
    {
     "name": "stdout",
     "output_type": "stream",
     "text": [
      "SelectKBest Accuracy:  100.0\n"
     ]
    }
   ],
   "source": [
    "selector = SelectKBest(score_func=f_classif, k=2)\n",
    "#score_func=f_classif uses ANOVA F-value(i.e it tests how much a feature helps distinguish between different groups) to assess feature importance.\n",
    "#k=2 selects the top 2 features based on the score_func.\n",
    "X_train_kbest = selector.fit_transform(X_train, y_train)\n",
    "X_test_kbest = selector.transform(X_test)\n",
    "model.fit(X_train_kbest, y_train)\n",
    "y_pred_kbest = model.predict(X_test_kbest)\n",
    "kbest_accuracy = accuracy_score(y_test, y_pred_kbest)\n",
    "print(\"SelectKBest Accuracy: \", kbest_accuracy*100)"
   ]
  },
  {
   "cell_type": "markdown",
   "id": "0a2c74f4-5c53-401f-9ff1-ce13c3dcbf21",
   "metadata": {},
   "source": [
    "### Feature Selection (Recursive Feature Elimination)"
   ]
  },
  {
   "cell_type": "code",
   "execution_count": 60,
   "id": "3bc22e6c-aadf-4427-9dd6-58803b7903ce",
   "metadata": {},
   "outputs": [
    {
     "name": "stdout",
     "output_type": "stream",
     "text": [
      "RFE Accuracy:  100.0\n"
     ]
    }
   ],
   "source": [
    "rfe = RFE(estimator=LogisticRegression(), n_features_to_select=2)#LogisticRegression is used here as the estimator for RFE.\n",
    "X_train_rfe = rfe.fit_transform(X_train, y_train)\n",
    "X_test_rfe = rfe.transform(X_test)\n",
    "model_rfe = LogisticRegression() \n",
    "model_rfe.fit(X_train_rfe, y_train)\n",
    "y_pred_rfe = model_rfe.predict(X_test_rfe)\n",
    "rfe_accuracy = accuracy_score(y_test, y_pred_rfe)\n",
    "print(\"RFE Accuracy: \", rfe_accuracy*100)"
   ]
  },
  {
   "cell_type": "markdown",
   "id": "b1bc51b9-888a-4b6c-994a-15be13051ea5",
   "metadata": {},
   "source": [
    "### My understanding of the change in results of the model when dimensionality reduction is applied\n",
    "### . dimensionality reduction techniques like LDA, SelectKBest, and RFE improved the model's accuracy to 100%.\n",
    "### . PCA, t_SNE and ICA also enhanced accuracy although slightly less than other methods.\n",
    "### . This demonstrates that reducing feature space(i.e all possible input features for dataset) can lead to better model performance.\n",
    "### . The choice of technique significantly impacts results which highlight the importance of selecting appropriate dimensionality reduction methods. "
   ]
  }
 ],
 "metadata": {
  "kernelspec": {
   "display_name": "Python 3 (ipykernel)",
   "language": "python",
   "name": "python3"
  },
  "language_info": {
   "codemirror_mode": {
    "name": "ipython",
    "version": 3
   },
   "file_extension": ".py",
   "mimetype": "text/x-python",
   "name": "python",
   "nbconvert_exporter": "python",
   "pygments_lexer": "ipython3",
   "version": "3.11.7"
  }
 },
 "nbformat": 4,
 "nbformat_minor": 5
}
