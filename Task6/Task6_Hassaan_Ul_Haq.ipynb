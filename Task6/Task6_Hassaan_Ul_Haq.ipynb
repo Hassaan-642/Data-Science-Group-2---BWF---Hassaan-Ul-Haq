{
 "cells": [
  {
   "cell_type": "code",
   "execution_count": 2,
   "id": "2b888585-49a8-4069-9577-5fd231f7fa26",
   "metadata": {},
   "outputs": [
    {
     "name": "stdout",
     "output_type": "stream",
     "text": [
      "\n",
      "Student Records Management By Hassaan\n",
      "1. Add Student Record\n",
      "2. Search Student Record\n",
      "3. Delete Student Record\n",
      "4. Display All Student Records\n",
      "5. Exit\n"
     ]
    },
    {
     "name": "stdin",
     "output_type": "stream",
     "text": [
      "Enter your choice:  1\n",
      "Enter student ID:  210\n"
     ]
    },
    {
     "name": "stdout",
     "output_type": "stream",
     "text": [
      "Error: Student ID already exists.\n",
      "\n",
      "Student Records Management By Hassaan\n",
      "1. Add Student Record\n",
      "2. Search Student Record\n",
      "3. Delete Student Record\n",
      "4. Display All Student Records\n",
      "5. Exit\n"
     ]
    },
    {
     "name": "stdin",
     "output_type": "stream",
     "text": [
      "Enter your choice:  1\n",
      "Enter student ID:  211\n",
      "Enter student name:  Arif\n",
      "Enter student age:  22\n",
      "Enter student grade:  B\n"
     ]
    },
    {
     "name": "stdout",
     "output_type": "stream",
     "text": [
      "Student record added successfully.\n",
      "\n",
      "Student Records Management By Hassaan\n",
      "1. Add Student Record\n",
      "2. Search Student Record\n",
      "3. Delete Student Record\n",
      "4. Display All Student Records\n",
      "5. Exit\n"
     ]
    },
    {
     "name": "stdin",
     "output_type": "stream",
     "text": [
      "Enter your choice:  3\n",
      "Enter student ID to delete:  211\n"
     ]
    },
    {
     "name": "stdout",
     "output_type": "stream",
     "text": [
      "Student record deleted successfully.\n",
      "\n",
      "Student Records Management By Hassaan\n",
      "1. Add Student Record\n",
      "2. Search Student Record\n",
      "3. Delete Student Record\n",
      "4. Display All Student Records\n",
      "5. Exit\n"
     ]
    },
    {
     "name": "stdin",
     "output_type": "stream",
     "text": [
      "Enter your choice:  4\n"
     ]
    },
    {
     "name": "stdout",
     "output_type": "stream",
     "text": [
      "Student ID: 210\n",
      "Name: hassaan\n",
      "Age: 21\n",
      "Grade: A\n",
      "---\n",
      "\n",
      "Student Records Management By Hassaan\n",
      "1. Add Student Record\n",
      "2. Search Student Record\n",
      "3. Delete Student Record\n",
      "4. Display All Student Records\n",
      "5. Exit\n"
     ]
    },
    {
     "name": "stdin",
     "output_type": "stream",
     "text": [
      "Enter your choice:  5\n"
     ]
    }
   ],
   "source": [
    " import os #to check file containing the student record exist or not\n",
    "\n",
    "# Define the file name\n",
    "FILE_NAME = 'student_records.txt'\n",
    "\n",
    "# Function to read student records from the file\n",
    "def load_students():\n",
    "    students = {}\n",
    "    if os.path.exists(FILE_NAME):\n",
    "        try:\n",
    "            with open(FILE_NAME, 'r') as file: #r for read file\n",
    "                for line in file: #used to iterate through each line in a file\n",
    "                    student_id, student_name, student_age, student_grade = line.strip().split(',')\n",
    "                    students[student_id] = {\n",
    "                        'name': student_name,\n",
    "                        'age': student_age,\n",
    "                        'grade': student_grade\n",
    "                    }\n",
    "        except Exception as e:\n",
    "            print(f\"Error reading file: {e}\")\n",
    "    return students\n",
    "\n",
    "# Function to write student records to the file\n",
    "def save_students(students):\n",
    "    try:\n",
    "        with open(FILE_NAME, 'w') as file:#w for writing a file\n",
    "            for student_id, details in students.items():\n",
    "                file.write(f\"{student_id},{details['name']},{details['age']},{details['grade']}\\n\")\n",
    "    except Exception as e:\n",
    "        print(f\"Error writing to file: {e}\")\n",
    "\n",
    "# Function to add a new student record\n",
    "def add_student(students):\n",
    "    student_id = input(\"Enter student ID: \")\n",
    "    if student_id in students:\n",
    "        print(\"Error: Student ID already exists.\")\n",
    "        return\n",
    "    student_name = input(\"Enter student name: \")\n",
    "    student_age = input(\"Enter student age: \")\n",
    "    student_grade = input(\"Enter student grade: \")\n",
    "    \n",
    "    students[student_id] = {\n",
    "        'name': student_name,\n",
    "        'age': student_age,\n",
    "        'grade': student_grade\n",
    "    }\n",
    "    save_students(students)\n",
    "    print(\"Student record added successfully.\")\n",
    "\n",
    "# Function to search for a student record by ID\n",
    "def search_student(students):\n",
    "    student_id = input(\"Enter student ID to search: \")\n",
    "    if student_id in students:\n",
    "        print(f\"Student ID: {student_id}\")\n",
    "        print(f\"Name: {students[student_id]['name']}\")\n",
    "        print(f\"Age: {students[student_id]['age']}\")\n",
    "        print(f\"Grade: {students[student_id]['grade']}\")\n",
    "    else:\n",
    "        print(\"Student record not found.\")\n",
    "\n",
    "# Function to delete a student record by ID\n",
    "def delete_student(students):\n",
    "    student_id = input(\"Enter student ID to delete: \")\n",
    "    if student_id in students:\n",
    "        del students[student_id]\n",
    "        save_students(students)\n",
    "        print(\"Student record deleted successfully.\")\n",
    "    else:\n",
    "        print(\"Student record not found.\")\n",
    "\n",
    "# Function to display all student records\n",
    "def display_students(students):\n",
    "    if not students:\n",
    "        print(\"No student records found.\")\n",
    "    else:\n",
    "        for student_id, details in students.items():\n",
    "            print(f\"Student ID: {student_id}\")\n",
    "            print(f\"Name: {details['name']}\")\n",
    "            print(f\"Age: {details['age']}\")\n",
    "            print(f\"Grade: {details['grade']}\")\n",
    "            print('---')\n",
    "\n",
    "# Main menu function\n",
    "def main_menu():\n",
    "    students = load_students()\n",
    "    while True:\n",
    "        print(\"\\nStudent Records Management By Hassaan\")\n",
    "        print(\"1. Add Student Record\")\n",
    "        print(\"2. Search Student Record\")\n",
    "        print(\"3. Delete Student Record\")\n",
    "        print(\"4. Display All Student Records\")\n",
    "        print(\"5. Exit\")\n",
    "        choice = input(\"Enter your choice: \")\n",
    "        \n",
    "        if choice == '1':\n",
    "            add_student(students)\n",
    "        elif choice == '2':\n",
    "            search_student(students)\n",
    "        elif choice == '3':\n",
    "            delete_student(students)\n",
    "        elif choice == '4':\n",
    "            display_students(students)\n",
    "        elif choice == '5':\n",
    "            break\n",
    "        else:\n",
    "            print(\"Invalid choice. Please try again.\")\n",
    "\n",
    "# Run the main menu\n",
    "if __name__ == \"__main__\":\n",
    "    main_menu()\n"
   ]
  },
  {
   "cell_type": "code",
   "execution_count": null,
   "id": "f31fd233-abbc-4151-9e4b-04cc5cfa2989",
   "metadata": {},
   "outputs": [],
   "source": []
  }
 ],
 "metadata": {
  "kernelspec": {
   "display_name": "Python 3 (ipykernel)",
   "language": "python",
   "name": "python3"
  },
  "language_info": {
   "codemirror_mode": {
    "name": "ipython",
    "version": 3
   },
   "file_extension": ".py",
   "mimetype": "text/x-python",
   "name": "python",
   "nbconvert_exporter": "python",
   "pygments_lexer": "ipython3",
   "version": "3.11.7"
  }
 },
 "nbformat": 4,
 "nbformat_minor": 5
}
