{
 "cells": [
  {
   "cell_type": "markdown",
   "id": "2efb1b4b-82d1-49b4-b8d7-52167cfae229",
   "metadata": {},
   "source": [
    "# Task 28-> Exploring Cross-Validation, Overfitting, and Underfitting"
   ]
  },
  {
   "cell_type": "markdown",
   "id": "a65472b7-48be-4b89-b394-0e63036a40fc",
   "metadata": {},
   "source": [
    "#######\n",
    "Cross-Validation\n",
    "Cross-validation is a technique used to assess the performance and generalization ability of a model by partitioning the dataset into multiple subsets or folds.\n",
    "Overfitting\n",
    "Overfitting occurs when a model learns the details and noise in the training data to the extent that it negatively impacts its performance on new, unseen data. Characteristics include:\n",
    "Underfitting\n",
    "Underfitting occurs when a model is too simple to capture the underlying patterns in the data. \n",
    "Characteristics include:"
   ]
  },
  {
   "cell_type": "markdown",
   "id": "fe7b8a7a-180e-4aa0-8081-3aaff48a4adb",
   "metadata": {},
   "source": [
    "### My Understanding Of the CV Score\n",
    "### . CV(Cross Validation) score tells us that how well the model will perform on new/unseen data. \n",
    "### . It Evaluates how well a model generalizes to new data by using multiple training and validation splits.\n",
    "### . It Provides a reliable estimate of model performance where Higher CV scores indicate better performance on new data, while consistent scores suggest model stability."
   ]
  },
  {
   "cell_type": "markdown",
   "id": "becdfb59-aded-4508-a87a-7ee90ee28800",
   "metadata": {},
   "source": [
    "### My understanding Of Overfitting\n",
    "### . Overfitting occurs when a model learns irrrelevant data during training to the extent that it negatively impacts its performance on new, unseen data. \n",
    "### . When there is less training data, model learns irreleveant data rather than general pattrens which results to lower accuracy on unseen data despite having high accuracy on training data.\n",
    "### . Overfitting can be reduced by using cross-validation, or pruning(removing parts of model that do not add much value) to improve the model’s ability to handle new data.\n"
   ]
  },
  {
   "cell_type": "markdown",
   "id": "eca71db2-0f86-43b6-8259-c2f5299ed08e",
   "metadata": {},
   "source": [
    "### My understanding of Underfitting\n",
    "### . Underfitting happens when a model is too basic to understand the patterns in the data.\n",
    "### . As a result, it performs poorly on both the training data and new data. Thus It leads to lower accuracy.\n",
    "### . Increasing model complexity can help address underfitting by allowing the model to learn more from the data."
   ]
  }
 ],
 "metadata": {
  "kernelspec": {
   "display_name": "Python 3 (ipykernel)",
   "language": "python",
   "name": "python3"
  },
  "language_info": {
   "codemirror_mode": {
    "name": "ipython",
    "version": 3
   },
   "file_extension": ".py",
   "mimetype": "text/x-python",
   "name": "python",
   "nbconvert_exporter": "python",
   "pygments_lexer": "ipython3",
   "version": "3.11.7"
  }
 },
 "nbformat": 4,
 "nbformat_minor": 5
}
