{
 "cells": [
  {
   "cell_type": "code",
   "execution_count": 2,
   "id": "7482307b-01af-401d-b0d1-139c13f7998e",
   "metadata": {},
   "outputs": [
    {
     "name": "stdout",
     "output_type": "stream",
     "text": [
      "\n",
      "Menu:\n",
      "1. Add Product\n",
      "2. Update Stock\n",
      "3. Remove Product\n",
      "4. List All Products\n",
      "5. List Products by Category\n",
      "6. Exit\n"
     ]
    },
    {
     "name": "stdin",
     "output_type": "stream",
     "text": [
      "Enter your choice (1-6):  1\n",
      "Enter Product ID:  123\n",
      "Enter Product Name:  Book\n",
      "Enter Product Price:  23\n",
      "Enter Product Category:  Paper\n",
      "Enter Product Stock:  2\n"
     ]
    },
    {
     "name": "stdout",
     "output_type": "stream",
     "text": [
      "Product 'Book' added successfully.\n",
      "\n",
      "Menu:\n",
      "1. Add Product\n",
      "2. Update Stock\n",
      "3. Remove Product\n",
      "4. List All Products\n",
      "5. List Products by Category\n",
      "6. Exit\n"
     ]
    },
    {
     "name": "stdin",
     "output_type": "stream",
     "text": [
      "Enter your choice (1-6):  1\n",
      "Enter Product ID:  456\n",
      "Enter Product Name:  Pen\n",
      "Enter Product Price:  45\n",
      "Enter Product Category:  ink\n",
      "Enter Product Stock:  6\n"
     ]
    },
    {
     "name": "stdout",
     "output_type": "stream",
     "text": [
      "Product 'Pen' added successfully.\n",
      "\n",
      "Menu:\n",
      "1. Add Product\n",
      "2. Update Stock\n",
      "3. Remove Product\n",
      "4. List All Products\n",
      "5. List Products by Category\n",
      "6. Exit\n"
     ]
    },
    {
     "name": "stdin",
     "output_type": "stream",
     "text": [
      "Enter your choice (1-6):  2\n",
      "Enter Product ID:  456\n",
      "Enter New Stock Quantity:  8\n"
     ]
    },
    {
     "name": "stdout",
     "output_type": "stream",
     "text": [
      "Stock for product 'Pen' updated to 8.\n",
      "\n",
      "Menu:\n",
      "1. Add Product\n",
      "2. Update Stock\n",
      "3. Remove Product\n",
      "4. List All Products\n",
      "5. List Products by Category\n",
      "6. Exit\n"
     ]
    },
    {
     "name": "stdin",
     "output_type": "stream",
     "text": [
      "Enter your choice (1-6):  3\n",
      "Enter Product ID to remove:  123\n"
     ]
    },
    {
     "name": "stdout",
     "output_type": "stream",
     "text": [
      "Product 'Book' removed successfully.\n",
      "\n",
      "Menu:\n",
      "1. Add Product\n",
      "2. Update Stock\n",
      "3. Remove Product\n",
      "4. List All Products\n",
      "5. List Products by Category\n",
      "6. Exit\n"
     ]
    },
    {
     "name": "stdin",
     "output_type": "stream",
     "text": [
      "Enter your choice (1-6):  4\n"
     ]
    },
    {
     "name": "stdout",
     "output_type": "stream",
     "text": [
      "Inventory:\n",
      "ID: 456, Name: Pen, Price: 45.0, Stock: 8\n",
      "\n",
      "Menu:\n",
      "1. Add Product\n",
      "2. Update Stock\n",
      "3. Remove Product\n",
      "4. List All Products\n",
      "5. List Products by Category\n",
      "6. Exit\n"
     ]
    },
    {
     "name": "stdin",
     "output_type": "stream",
     "text": [
      "Enter your choice (1-6):  5\n",
      "Enter Category to list products:  ink\n"
     ]
    },
    {
     "name": "stdout",
     "output_type": "stream",
     "text": [
      "Products in Category 'ink':\n",
      "ID: 456, Name: Pen, Price: 45.0, Stock: 8\n",
      "\n",
      "Menu:\n",
      "1. Add Product\n",
      "2. Update Stock\n",
      "3. Remove Product\n",
      "4. List All Products\n",
      "5. List Products by Category\n",
      "6. Exit\n"
     ]
    },
    {
     "name": "stdin",
     "output_type": "stream",
     "text": [
      "Enter your choice (1-6):  6\n"
     ]
    },
    {
     "name": "stdout",
     "output_type": "stream",
     "text": [
      "Exiting program. Thank you!\n"
     ]
    }
   ],
   "source": [
    "class Inventory:\n",
    "    def __init__(self): #self is used as an instance of the class\n",
    "        self.products = {}  # Dictionary to store products (product_id -> product_info)\n",
    "        self.categories = set()  # Set to store unique categories\n",
    "\n",
    "    def add_product(self, product_id, name, price, category, stock):\n",
    "        #Add a new product to the inventory.\n",
    "        if product_id in self.products:\n",
    "            print(f\"Product with ID {product_id} already exists. Use update_product() to modify.\")\n",
    "        else:\n",
    "            # Add new product details to self.products dictionary\n",
    "            self.products[product_id] = {\n",
    "                'name': name,\n",
    "                'price': price,\n",
    "                'category': category,\n",
    "                'stock': stock\n",
    "            }\n",
    "            # Add the category to the set of categories\n",
    "            self.categories.add(category)\n",
    "            print(f\"Product '{name}' added successfully.\")\n",
    "\n",
    "    def update_product(self, product_id, stock):\n",
    "        #Update the stock quantity of an existing product.\n",
    "        if product_id in self.products:\n",
    "            # Update the stock quantity for the specified product_id\n",
    "            self.products[product_id]['stock'] = stock\n",
    "            print(f\"Stock for product '{self.products[product_id]['name']}' updated to {stock}.\")\n",
    "        else:\n",
    "            print(f\"Product with ID {product_id} does not exist.\")\n",
    "\n",
    "    def remove_product(self, product_id):\n",
    "        #Remove a product from the inventory.\n",
    "        if product_id in self.products:\n",
    "            product_name = self.products[product_id]['name']\n",
    "            del self.products[product_id]  # Delete product entry from self.products\n",
    "            print(f\"Product '{product_name}' removed successfully.\")\n",
    "        else:\n",
    "            print(f\"Product with ID {product_id} does not exist.\")\n",
    "\n",
    "    def list_products(self):\n",
    "        #List all products in the inventory.\n",
    "        print(\"Inventory:\")\n",
    "        for product_id, product_info in self.products.items():\n",
    "            # Print details of each product in self.products\n",
    "            print(f\"ID: {product_id}, Name: {product_info['name']}, Price: {product_info['price']}, Stock: {product_info['stock']}\")\n",
    "\n",
    "    def list_products_by_category(self, category):\n",
    "        #List products filtered by a specific category.\n",
    "        print(f\"Products in Category '{category}':\")\n",
    "        for product_id, product_info in self.products.items():\n",
    "            # Check if product belongs to the specified category\n",
    "            if product_info['category'] == category:\n",
    "                # Print details of products in the specified category\n",
    "                print(f\"ID: {product_id}, Name: {product_info['name']}, Price: {product_info['price']}, Stock: {product_info['stock']}\")\n",
    "\n",
    "# Function to display menu\n",
    "def display_menu():\n",
    "    #Display the menu options.\n",
    "    print(\"\\nMenu:\")\n",
    "    print(\"1. Add Product\")\n",
    "    print(\"2. Update Stock\")\n",
    "    print(\"3. Remove Product\")\n",
    "    print(\"4. List All Products\")\n",
    "    print(\"5. List Products by Category\")\n",
    "    print(\"6. Exit\")\n",
    "\n",
    "# Main function to run the inventory management system\n",
    "def main():\n",
    "    inventory = Inventory()  # Create an instance of the Inventory class\n",
    "\n",
    "    while True:\n",
    "        display_menu()  # Display the menu\n",
    "\n",
    "        choice = input(\"Enter your choice (1-6): \")  # Get user input for menu choice\n",
    "\n",
    "        if choice == '1':\n",
    "            # Add Product\n",
    "            product_id = int(input(\"Enter Product ID: \"))  # Get product ID\n",
    "            name = input(\"Enter Product Name: \")  # Get product name\n",
    "            price = float(input(\"Enter Product Price: \"))  # Get product price\n",
    "            category = input(\"Enter Product Category: \")  # Get product category\n",
    "            stock = int(input(\"Enter Product Stock: \"))  # Get product stock\n",
    "            inventory.add_product(product_id, name, price, category, stock)  # Call add_product method\n",
    "\n",
    "        elif choice == '2':\n",
    "            # Update Stock\n",
    "            product_id = int(input(\"Enter Product ID: \"))  # Get product ID for stock update\n",
    "            stock = int(input(\"Enter New Stock Quantity: \"))  # Get new stock quantity\n",
    "            inventory.update_product(product_id, stock)  # Call update_product method\n",
    "\n",
    "        elif choice == '3':\n",
    "            # Remove Product\n",
    "            product_id = int(input(\"Enter Product ID to remove: \"))  # Get product ID to remove\n",
    "            inventory.remove_product(product_id)  # Call remove_product method\n",
    "\n",
    "        elif choice == '4':\n",
    "            # List All Products\n",
    "            inventory.list_products()  # Call list_products method to print all products\n",
    "\n",
    "        elif choice == '5':\n",
    "            # List Products by Category\n",
    "            category = input(\"Enter Category to list products: \")  # Get category to filter products\n",
    "            inventory.list_products_by_category(category)  # Call list_products_by_category method\n",
    "\n",
    "        elif choice == '6':\n",
    "            # Exit\n",
    "            print(\"Exiting program. Thank you!\")\n",
    "            break  # Exit the loop and end the program\n",
    "\n",
    "        else:\n",
    "            print(\"Invalid choice. Please enter a number from 1 to 6.\")  # Handle invalid input\n",
    "\n",
    "if __name__ == \"__main__\":\n",
    "    main()  # Run the main function if this script is executed directly\n"
   ]
  }
 ],
 "metadata": {
  "kernelspec": {
   "display_name": "Python 3 (ipykernel)",
   "language": "python",
   "name": "python3"
  },
  "language_info": {
   "codemirror_mode": {
    "name": "ipython",
    "version": 3
   },
   "file_extension": ".py",
   "mimetype": "text/x-python",
   "name": "python",
   "nbconvert_exporter": "python",
   "pygments_lexer": "ipython3",
   "version": "3.11.7"
  }
 },
 "nbformat": 4,
 "nbformat_minor": 5
}
