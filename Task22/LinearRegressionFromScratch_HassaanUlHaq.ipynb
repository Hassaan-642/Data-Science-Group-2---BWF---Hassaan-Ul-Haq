{
 "cells": [
  {
   "cell_type": "markdown",
   "id": "7717d081-ea75-4764-942b-6b86d974a77c",
   "metadata": {},
   "source": [
    "#Linear Regression From Scratch "
   ]
  },
  {
   "cell_type": "markdown",
   "id": "a99ae63b-41c8-41b8-99c3-ae989d8695ad",
   "metadata": {},
   "source": [
    "###Creating Linear Regression from scratch involves initializing parameters (weights and bias), using a hypothesis function (y^​=w⋅x+b), and optimizing these parameters to minimize a loss function,\n",
    "###typically Mean Squared Error (MSE). This is achieved using gradient descent, which iteratively updates \n",
    "###the weights and bias based on the gradient of the loss function to each parameter. This process helps in\n",
    "###understanding the underlying mechanics of Linear Regression and how predictions are refined through \n",
    "###optimization."
   ]
  },
  {
   "cell_type": "markdown",
   "id": "a229c19c-2e63-4ec4-8022-16d1ece7e1f3",
   "metadata": {},
   "source": [
    "##Importing necessary libraries and dataset"
   ]
  },
  {
   "cell_type": "code",
   "execution_count": 7,
   "id": "abcc4e0b-98cc-4c11-a541-ba726ed6dd6d",
   "metadata": {},
   "outputs": [
    {
     "name": "stdout",
     "output_type": "stream",
     "text": [
      "(14, 4)\n"
     ]
    },
    {
     "data": {
      "text/html": [
       "<div>\n",
       "<style scoped>\n",
       "    .dataframe tbody tr th:only-of-type {\n",
       "        vertical-align: middle;\n",
       "    }\n",
       "\n",
       "    .dataframe tbody tr th {\n",
       "        vertical-align: top;\n",
       "    }\n",
       "\n",
       "    .dataframe thead th {\n",
       "        text-align: right;\n",
       "    }\n",
       "</style>\n",
       "<table border=\"1\" class=\"dataframe\">\n",
       "  <thead>\n",
       "    <tr style=\"text-align: right;\">\n",
       "      <th></th>\n",
       "      <th>Gender</th>\n",
       "      <th>Age Range</th>\n",
       "      <th>Head Size(cm^3)</th>\n",
       "      <th>Brain Weight(grams)</th>\n",
       "    </tr>\n",
       "  </thead>\n",
       "  <tbody>\n",
       "    <tr>\n",
       "      <th>0</th>\n",
       "      <td>1</td>\n",
       "      <td>1</td>\n",
       "      <td>4512</td>\n",
       "      <td>1530</td>\n",
       "    </tr>\n",
       "    <tr>\n",
       "      <th>1</th>\n",
       "      <td>1</td>\n",
       "      <td>1</td>\n",
       "      <td>3738</td>\n",
       "      <td>1297</td>\n",
       "    </tr>\n",
       "    <tr>\n",
       "      <th>2</th>\n",
       "      <td>1</td>\n",
       "      <td>1</td>\n",
       "      <td>4261</td>\n",
       "      <td>1335</td>\n",
       "    </tr>\n",
       "    <tr>\n",
       "      <th>3</th>\n",
       "      <td>1</td>\n",
       "      <td>1</td>\n",
       "      <td>3777</td>\n",
       "      <td>1282</td>\n",
       "    </tr>\n",
       "    <tr>\n",
       "      <th>4</th>\n",
       "      <td>1</td>\n",
       "      <td>1</td>\n",
       "      <td>4177</td>\n",
       "      <td>1590</td>\n",
       "    </tr>\n",
       "  </tbody>\n",
       "</table>\n",
       "</div>"
      ],
      "text/plain": [
       "   Gender  Age Range  Head Size(cm^3)  Brain Weight(grams)\n",
       "0       1          1             4512                 1530\n",
       "1       1          1             3738                 1297\n",
       "2       1          1             4261                 1335\n",
       "3       1          1             3777                 1282\n",
       "4       1          1             4177                 1590"
      ]
     },
     "execution_count": 7,
     "metadata": {},
     "output_type": "execute_result"
    }
   ],
   "source": [
    "import numpy as np\n",
    "import pandas as pd\n",
    "import matplotlib.pyplot as plt\n",
    "\n",
    "dataset=pd.read_csv(r'C:\\Users\\Huawei\\Downloads\\dataset.csv')\n",
    "print(dataset.shape)\n",
    "dataset.head()\n",
    "\n"
   ]
  },
  {
   "cell_type": "markdown",
   "id": "e8905606-d0be-495c-8439-963fa32e7a89",
   "metadata": {},
   "source": [
    "## Data Initialization"
   ]
  },
  {
   "cell_type": "code",
   "execution_count": 8,
   "id": "329e82b7-77b0-461e-a3b2-4a560fa5310f",
   "metadata": {},
   "outputs": [],
   "source": [
    "X = dataset['Head Size(cm^3)'].values\n",
    "Y = dataset['Brain Weight(grams)'].values\n",
    "\n"
   ]
  },
  {
   "cell_type": "markdown",
   "id": "f5a16164-ad52-43e0-8ea4-320150abb48a",
   "metadata": {},
   "source": [
    "### here I have used  .values  so that X and Y are taken as num py arrays, if they are taken as normal pandas series, there is wrong values in answer of mathemtical formulas used."
   ]
  },
  {
   "cell_type": "markdown",
   "id": "a5f7a06d-f0c5-461a-b8d6-a75f17fb2ca9",
   "metadata": {},
   "source": [
    "## Hypothesis Function"
   ]
  },
  {
   "cell_type": "code",
   "execution_count": 9,
   "id": "20e5de95-403e-4a11-8444-298e8e6e052d",
   "metadata": {},
   "outputs": [],
   "source": [
    "def hypothesis(X, b0, b1):\n",
    "    return b0 + (b1*X)"
   ]
  },
  {
   "cell_type": "markdown",
   "id": "8f75f9bf-dbe7-4d51-a5bd-fda58b9ef186",
   "metadata": {},
   "source": [
    "### As mentioned in the question, hypothesis function to be used is y^​=w⋅x+b , here i have replaced 'w' which is weight with b1 and 'b' which is bias with b0."
   ]
  },
  {
   "cell_type": "markdown",
   "id": "6b605012-f547-4680-bb33-57e4deeb620a",
   "metadata": {},
   "source": [
    "## Normalize the Data"
   ]
  },
  {
   "cell_type": "code",
   "execution_count": 10,
   "id": "e76ff56d-f65c-4714-ae13-4f76319133bb",
   "metadata": {},
   "outputs": [],
   "source": [
    "X = (X - np.mean(X)) / np.std(X)\n",
    "Y = (Y - np.mean(Y)) / np.std(Y)"
   ]
  },
  {
   "cell_type": "markdown",
   "id": "ce795f8b-17c8-4b24-af4c-7c428ec3c74b",
   "metadata": {},
   "source": [
    "### Normalization of data is done because there is nan values in b0 and b1 if i do not normalize the data"
   ]
  },
  {
   "cell_type": "markdown",
   "id": "49243c34-2762-42ce-8a3b-40dd98e49db1",
   "metadata": {},
   "source": [
    "## Gradient Descent"
   ]
  },
  {
   "cell_type": "code",
   "execution_count": 57,
   "id": "52c5bb70-a800-4b42-907f-e121d2cf6668",
   "metadata": {},
   "outputs": [],
   "source": [
    "def gradient_descent(X, Y, b0, b1, learning_rate, iterations):\n",
    "    n = len(X)\n",
    "    for i in range(iterations):\n",
    "        y_pred = hypothesis(X, b0, b1)\n",
    "        db0 = np.sum(y_pred - Y) / n\n",
    "        db1 = np.sum((y_pred - Y) * X) / n\n",
    "        b0 = b0 - (learning_rate * db0)\n",
    "        b1 = b1 - (learning_rate * db1)\n",
    "    return b0, b1\n"
   ]
  },
  {
   "cell_type": "markdown",
   "id": "217264f6-0d90-4bf1-a0be-1fb6ce783a0c",
   "metadata": {},
   "source": [
    "## initialize parameters"
   ]
  },
  {
   "cell_type": "code",
   "execution_count": 58,
   "id": "7a7baebf-fe28-44a6-84be-3a37afeb1a6f",
   "metadata": {},
   "outputs": [],
   "source": [
    "b0 = 0\n",
    "b1 = 0"
   ]
  },
  {
   "cell_type": "markdown",
   "id": "4058a042-50b7-4942-9bfe-0e1cb9b60b78",
   "metadata": {},
   "source": [
    "## Train Model"
   ]
  },
  {
   "cell_type": "code",
   "execution_count": 62,
   "id": "a6bf1ce5-ebfc-4612-a9b4-b2063136e065",
   "metadata": {},
   "outputs": [
    {
     "name": "stdout",
     "output_type": "stream",
     "text": [
      "b0 (bias) = -1.7763568394002525e-16\n",
      "b1 (weight) = 0.7243353763614357\n"
     ]
    }
   ],
   "source": [
    "learning_rate = 0.1\n",
    "iterations = 10000\n",
    "b0,b1=gradient_descent(X,Y,b0,b1, learning_rate, iterations)\n",
    "\n",
    "print(\"b0 (bias) =\", b0)\n",
    "print(\"b1 (weight) =\", b1)\n"
   ]
  },
  {
   "cell_type": "markdown",
   "id": "663aafdc-e9c9-4d88-a174-74f4cc27cc08",
   "metadata": {},
   "source": [
    "### My learnings from train model\n",
    "### . best learning rate is used in training the model as it usually ranges from 0.01 to 0.1\n",
    "### . setting iterations number larger will help improve model accuracy\n",
    "### . As bias represents the value of Y when X is 0, so as bias is approx to zero, so it does not change the outcome\n",
    "### . weight shows how much Y changes with X and its value =0.72 means that for every 1 unit increase in X, Y goes up by 0.72\n",
    "### . So as X increases, Y increases so main impact in training the model is between X and Y, not the bias.\n"
   ]
  },
  {
   "cell_type": "markdown",
   "id": "7ef9bada-bb78-4c7e-bbf4-6cb7a27d3e3e",
   "metadata": {},
   "source": [
    "## Plot the Results"
   ]
  },
  {
   "cell_type": "code",
   "execution_count": 60,
   "id": "ddb917e3-cf95-4512-940d-7fc1bf363a27",
   "metadata": {},
   "outputs": [
    {
     "data": {
      "image/png": "[encoded data removed]",
      "text/plain": [
       "<Figure size 640x480 with 1 Axes>"
      ]
     },
     "metadata": {},
     "output_type": "display_data"
    }
   ],
   "source": [
    "\n",
    "x_max = np.max(X) + 100\n",
    "x_min = np.min(X) - 100\n",
    "c = np.linspace(x_min, x_max, 1000)\n",
    "d = hypothesis(c, b0, b1)\n",
    "\n",
    "plt.plot(c, d, color='#00ff00', label='Linear Regression')\n",
    "plt.scatter(X, Y, color='#ff0000', label='Data Points')\n",
    "plt.xlabel('Head Size (cm^3)')\n",
    "plt.ylabel('Brain Weight (grams)')\n",
    "plt.legend()\n",
    "plt.show()"
   ]
  },
  {
   "cell_type": "markdown",
   "id": "cf72f359-3e90-4317-aebc-7afe88d82803",
   "metadata": {},
   "source": [
    "## Evaluate the model"
   ]
  },
  {
   "cell_type": "code",
   "execution_count": 61,
   "id": "4e163811-014b-4b6e-bd60-bc84c8aa6961",
   "metadata": {},
   "outputs": [
    {
     "name": "stdout",
     "output_type": "stream",
     "text": [
      "RMSE in percentage:  68.94477953778201\n",
      "R^2 Score in percentage:  52.46617374486635\n"
     ]
    }
   ],
   "source": [
    "def calculate_rmse(X, Y, b0, b1):\n",
    "    y_pred = hypothesis(X, b0, b1)\n",
    "    rmse = np.sqrt(np.sum((Y - y_pred) ** 2) / len(Y))\n",
    "    return rmse\n",
    "\n",
    "def calculate_r2(X, Y, b0, b1):\n",
    "    y_pred = hypothesis(X, b0, b1)\n",
    "    ss_total = np.sum((Y - np.mean(Y)) ** 2)\n",
    "    ss_residual = np.sum((Y - y_pred) ** 2)\n",
    "    r2_score = 1 - (ss_residual / ss_total)\n",
    "    return r2_score\n",
    "\n",
    "# Calculate RMSE\n",
    "rmse = calculate_rmse(X, Y, b0, b1)\n",
    "rmse_in_percentage = rmse * 100\n",
    "\n",
    "print(\"RMSE in percentage: \",rmse_in_percentage)\n",
    "\n",
    "# Calculate R² Score\n",
    "r2_score = calculate_r2(X, Y, b0, b1)\n",
    "r2_score_in_percentage = r2_score * 100\n",
    "\n",
    "print(\"R^2 Score in percentage: \", r2_score_in_percentage)\n"
   ]
  },
  {
   "cell_type": "markdown",
   "id": "78cc1873-c177-410e-8758-b979dd5addf7",
   "metadata": {},
   "source": [
    "### My learnings from Evaluation of model\n",
    "### . Rmse and R^2 mathematical formulas are given in the blog, so here i have utilized these and calculate the values\n",
    "### . Rmse(difference between predicted and actual value) value is High which means predictions through this model will not be accurate\n",
    "### . R^2 value is average which means it explains almost half of the variance(i.e data points difference from average value) and has room for improvement"
   ]
  }
 ],
 "metadata": {
  "kernelspec": {
   "display_name": "Python 3 (ipykernel)",
   "language": "python",
   "name": "python3"
  },
  "language_info": {
   "codemirror_mode": {
    "name": "ipython",
    "version": 3
   },
   "file_extension": ".py",
   "mimetype": "text/x-python",
   "name": "python",
   "nbconvert_exporter": "python",
   "pygments_lexer": "ipython3",
   "version": "3.11.7"
  }
 },
 "nbformat": 4,
 "nbformat_minor": 5
}
