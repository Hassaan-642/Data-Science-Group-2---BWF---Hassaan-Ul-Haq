{
 "cells": [
  {
   "cell_type": "markdown",
   "id": "01dab137-813c-462e-a6c3-dc5f5b4171a6",
   "metadata": {},
   "source": [
    "# Task 33-> Neural Networks Basics (Perceptron, Activation Functions)"
   ]
  },
  {
   "cell_type": "markdown",
   "id": "ce744e47-31ab-4b8f-9788-51a340950af1",
   "metadata": {},
   "source": [
    "### \n",
    "Neural networks, inspired by the human brain, consist of interconnected layers of neurons. A perceptron,\n",
    "the simplest neural network, uses a weighted sum of inputs and an activation function to produce an \n",
    "output. Activation functions, like sigmoid and ReLU, introduce non-linearity, allowing the network to\n",
    "learn complex patterns. Make a simple neural network from scratch for a regression task, the Mean \n",
    "Squared Error (MSE) measures prediction accuracy, while gradient descent optimizes the model's weights \n",
    "to minimize this error. A basic neural network with one input layer, one hidden layer, and one output \n",
    "layer can effectively perform regression by using these principles."
   ]
  },
  {
   "cell_type": "markdown",
   "id": "55f4fe69-056e-46e9-b081-10773a4cda7a",
   "metadata": {},
   "source": [
    "### Import necessary libraries and datasets"
   ]
  },
  {
   "cell_type": "code",
   "execution_count": 82,
   "id": "66aa0069-e5d2-4c6c-b1fb-5fb1d384c5ae",
   "metadata": {},
   "outputs": [],
   "source": [
    "import numpy as np\n",
    "import pandas as pd\n",
    "from sklearn.model_selection import train_test_split\n",
    "from sklearn.preprocessing import StandardScaler\n",
    "\n",
    "\n",
    "file_path = r'C:\\Users\\Huawei\\Desktop\\Iris.csv'\n",
    "data = pd.read_csv(file_path)\n",
    "\n",
    "\n"
   ]
  },
  {
   "cell_type": "markdown",
   "id": "e03183c1-a59e-4bea-babb-310126a33271",
   "metadata": {},
   "source": [
    "### features and target"
   ]
  },
  {
   "cell_type": "code",
   "execution_count": 69,
   "id": "3f13620f-9971-4251-ad04-2c15cbbe1707",
   "metadata": {},
   "outputs": [],
   "source": [
    "X = data[['SepalLengthCm', 'SepalWidthCm', 'PetalLengthCm', 'PetalWidthCm']].values\n",
    "y = data['PetalLengthCm'].values.reshape(-1, 1) \n",
    "\n",
    "scaler = StandardScaler()\n",
    "X = scaler.fit_transform(X)"
   ]
  },
  {
   "cell_type": "markdown",
   "id": "a6d00af1-83c7-4776-a5ec-bd15d20a9fdc",
   "metadata": {},
   "source": [
    "### Split the data into training and testing sets"
   ]
  },
  {
   "cell_type": "code",
   "execution_count": 71,
   "id": "61945c6b-6d13-4b84-8aa3-98062d61e8a8",
   "metadata": {},
   "outputs": [],
   "source": [
    "X_train, X_test, y_train, y_test = train_test_split(X, y, test_size=0.2, random_state=42)"
   ]
  },
  {
   "cell_type": "markdown",
   "id": "2325abb6-018f-4caf-aee6-44f301ae2bc5",
   "metadata": {},
   "source": [
    "### Sigmoid activation function and its derivative"
   ]
  },
  {
   "cell_type": "code",
   "execution_count": 80,
   "id": "ac63fd76-fb9d-42b1-a796-1d9d212ea2f0",
   "metadata": {},
   "outputs": [],
   "source": [
    "def sigmoid(x):\n",
    "    return 1 / (1 + np.exp(-x))\n",
    "\n",
    "def sigmoid_derivative(x):\n",
    "    return x * (1 - x)\n",
    "\n",
    "#Mean Squared Error loss function\n",
    "def mean_squared_error(y_true, y_pred):\n",
    "    return np.mean((y_true - y_pred) ** 2)"
   ]
  },
  {
   "cell_type": "markdown",
   "id": "0c90f5e5-584f-4151-9ba2-feb7b445c1a7",
   "metadata": {},
   "source": [
    "### neural network class"
   ]
  },
  {
   "cell_type": "code",
   "execution_count": 81,
   "id": "717f1eca-fa2c-4e63-9d54-14344dd5f145",
   "metadata": {},
   "outputs": [],
   "source": [
    "class NeuralNetwork:\n",
    "    def __init__(self, input_size, hidden_size, output_size, learning_rate=0.01):\n",
    "        self.learning_rate = learning_rate\n",
    "        #generating matrix of random values between 0 and 1.\n",
    "        self.weights_input_hidden = np.random.rand(input_size, hidden_size)\n",
    "        self.weights_hidden_output = np.random.rand(hidden_size, output_size)\n",
    "        \n",
    "        self.bias_hidden = np.zeros((1, hidden_size))#2_dimensional array with 1 row and hidden size columns.\n",
    "        self.bias_output = np.zeros((1, output_size))#2_dimensional array with 1 row and output size columns.\n",
    "        \n",
    "        # Forward Pass\n",
    "    def forward(self, X):\n",
    "        self.hidden_layer = sigmoid(np.dot(X, self.weights_input_hidden) + self.bias_hidden)\n",
    "        self.output_layer = np.dot(self.hidden_layer, self.weights_hidden_output) + self.bias_output\n",
    "        return self.output_layer\n",
    "        # Backward pass\n",
    "    def backward(self, X, y):\n",
    "        y_pred = self.forward(X)#Computes the predicted output of the neural network.\n",
    "        d_output = y_pred - y#Calculates the error at the output layer.\n",
    "        \n",
    "         #backpropagation\n",
    "        d_hidden = np.dot(d_output, self.weights_hidden_output.T) * sigmoid_derivative(self.hidden_layer)#calculating error gradient for the hidden layer\n",
    "        \n",
    "        self.weights_hidden_output -= self.learning_rate * np.dot(self.hidden_layer.T, d_output)\n",
    "        self.bias_output -= self.learning_rate * np.sum(d_output, axis=0)\n",
    "        self.weights_input_hidden -= self.learning_rate * np.dot(X.T, d_hidden)\n",
    "        self.bias_hidden -= self.learning_rate * np.sum(d_hidden, axis=0)\n",
    "\n",
    "    def train(self, X, y, epochs):#epoch is one complete pass through the entire dataset\n",
    "        for epoch in range(epochs):\n",
    "            self.backward(X, y)\n",
    "            if epoch % 100 == 0:\n",
    "                loss = mean_squared_error(y, self.forward(X))\n",
    "                print(f'Epoch {epoch}, Loss: {loss:.4f}')\n"
   ]
  },
  {
   "cell_type": "markdown",
   "id": "1109c725-9874-4173-afa1-91c8ca95b0c4",
   "metadata": {},
   "source": [
    "###  Usage with the Iris dataset"
   ]
  },
  {
   "cell_type": "code",
   "execution_count": 78,
   "id": "30849046-651e-4145-a095-ebc67459ac0c",
   "metadata": {},
   "outputs": [
    {
     "name": "stdout",
     "output_type": "stream",
     "text": [
      "Epoch 0, Loss: 28.9813\n",
      "Epoch 100, Loss: 0.0479\n",
      "Epoch 200, Loss: 0.0386\n",
      "Epoch 300, Loss: 0.0301\n",
      "Epoch 400, Loss: 0.0225\n",
      "Epoch 500, Loss: 0.0164\n",
      "Epoch 600, Loss: 0.0120\n",
      "Epoch 700, Loss: 0.0092\n",
      "Epoch 800, Loss: 0.0073\n",
      "Epoch 900, Loss: 0.0060\n"
     ]
    }
   ],
   "source": [
    "input_size = X_train.shape[1]\n",
    "hidden_size = 5\n",
    "output_size = 1\n",
    "\n",
    "nn = NeuralNetwork(input_size=input_size, hidden_size=hidden_size, output_size=output_size)\n",
    "nn.train(X_train, y_train, epochs=1000)"
   ]
  },
  {
   "cell_type": "markdown",
   "id": "e35e70b0-039f-4ac4-a0ce-9c8a5b93e0e8",
   "metadata": {},
   "source": [
    "### Final predictions on the test set"
   ]
  },
  {
   "cell_type": "code",
   "execution_count": 79,
   "id": "9a141a23-9d88-4dc2-bb79-0ed61eda0814",
   "metadata": {},
   "outputs": [
    {
     "name": "stdout",
     "output_type": "stream",
     "text": [
      "\n",
      "Final Predictions:\n",
      "Input: [ 0.31099753 -0.58776353  0.53529583  0.00175297], Prediction: 4.6138, Actual: 4.7000\n",
      "Input: [-0.17367395  1.72626612 -1.17067529 -1.18150376], Prediction: 1.6958, Actual: 1.7000\n",
      "Input: [ 2.24968346 -1.05056946  1.78634131  1.44795564], Prediction: 6.6088, Actual: 6.9000\n",
      "Input: [ 0.18982966 -0.35636057  0.42156442  0.39617188], Prediction: 4.4686, Actual: 4.5000\n",
      "Input: [ 1.15917263 -0.58776353  0.59216153  0.26469891], Prediction: 4.7055, Actual: 4.8000\n",
      "Input: [-0.53717756  0.80065426 -1.2844067  -1.05003079], Prediction: 1.5890, Actual: 1.5000\n",
      "Input: [-0.29484182 -0.35636057 -0.09022692  0.13322594], Prediction: 3.8990, Actual: 3.6000\n",
      "Input: [1.2803405  0.10644536 0.76275864 1.44795564], Prediction: 4.9962, Actual: 5.1000\n",
      "Input: [ 0.4321654  -1.97618132  0.42156442  0.39617188], Prediction: 4.5002, Actual: 4.5000\n",
      "Input: [-0.05250608 -0.8191665   0.08037019  0.00175297], Prediction: 4.0633, Actual: 3.9000\n"
     ]
    }
   ],
   "source": [
    "predictions = nn.forward(X_test)\n",
    "print(\"\\nFinal Predictions:\")\n",
    "for i, pred in enumerate(predictions[:10]):#Print first 10 predictions\n",
    "    print(f\"Input: {X_test[i]}, Prediction: {pred[0]:.4f}, Actual: {y_test[i][0]:.4f}\")"
   ]
  }
 ],
 "metadata": {
  "kernelspec": {
   "display_name": "Python 3 (ipykernel)",
   "language": "python",
   "name": "python3"
  },
  "language_info": {
   "codemirror_mode": {
    "name": "ipython",
    "version": 3
   },
   "file_extension": ".py",
   "mimetype": "text/x-python",
   "name": "python",
   "nbconvert_exporter": "python",
   "pygments_lexer": "ipython3",
   "version": "3.11.7"
  }
 },
 "nbformat": 4,
 "nbformat_minor": 5
}
