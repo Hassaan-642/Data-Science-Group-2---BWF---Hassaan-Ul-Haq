{
 "cells": [
  {
   "cell_type": "code",
   "execution_count": null,
   "id": "f55ccdbf-5fea-4a18-b1df-5b57f9930f96",
   "metadata": {},
   "outputs": [],
   "source": [
    "#ODD OR EVEN\n"
   ]
  },
  {
   "cell_type": "code",
   "execution_count": 7,
   "id": "23c92b74-10e0-40b0-88e4-605e1d8d7a19",
   "metadata": {},
   "outputs": [
    {
     "name": "stdin",
     "output_type": "stream",
     "text": [
      "Enter the number for odd check 6\n",
      "Enter the number for even check 7\n"
     ]
    },
    {
     "name": "stdout",
     "output_type": "stream",
     "text": [
      "6 is even.\n",
      "7 is odd.\n"
     ]
    }
   ],
   "source": [
    "def check_odd_even(number):\n",
    "    if number % 2 == 0:\n",
    "        return f\"{number} is even.\"\n",
    "    else:\n",
    "        return f\"{number} is odd.\"\n",
    "\n",
    "# Test the function\n",
    "num=int(input('Enter the number for odd check'))\n",
    "num2=int(input('Enter the number for even check'))\n",
    "print(check_odd_even(num))\n",
    "print(check_odd_even(num2))\n"
   ]
  },
  {
   "cell_type": "code",
   "execution_count": null,
   "id": "99448597-e24f-4c5e-a0e9-f9cc41e285d6",
   "metadata": {},
   "outputs": [],
   "source": [
    "##Print a Multiplication Table"
   ]
  },
  {
   "cell_type": "code",
   "execution_count": 36,
   "id": "ed154e39-ad99-4e6f-ab05-63e01fec1e31",
   "metadata": {},
   "outputs": [
    {
     "name": "stdin",
     "output_type": "stream",
     "text": [
      "Enter any number 12\n"
     ]
    },
    {
     "name": "stdout",
     "output_type": "stream",
     "text": [
      "12 x 1 = 12\n",
      "12 x 2 = 24\n",
      "12 x 3 = 36\n",
      "12 x 4 = 48\n",
      "12 x 5 = 60\n",
      "12 x 6 = 72\n",
      "12 x 7 = 84\n",
      "12 x 8 = 96\n",
      "12 x 9 = 108\n",
      "12 x 10 = 120\n"
     ]
    }
   ],
   "source": [
    "def multiplication_table(n):\n",
    "    for i in range(1, 11):\n",
    "        print(n, 'x', i, '=', n * i)\n",
    "\n",
    "# Print the multiplication of any number\n",
    "num1=int(input('Enter any number'))\n",
    "multiplication_table(num1)\n"
   ]
  },
  {
   "cell_type": "code",
   "execution_count": null,
   "id": "3711d324-0f91-4489-85c7-54f37748056a",
   "metadata": {},
   "outputs": [],
   "source": [
    "##Sum of Natural Numbers"
   ]
  },
  {
   "cell_type": "code",
   "execution_count": 14,
   "id": "89ae96e7-c2b7-4fba-80ea-8713c9da2267",
   "metadata": {},
   "outputs": [
    {
     "name": "stdout",
     "output_type": "stream",
     "text": [
      "55\n"
     ]
    }
   ],
   "source": [
    "def sum_natural_numbers(n):\n",
    "    total = 0\n",
    "    for i in range(1, n + 1):\n",
    "        total += i\n",
    "    return total\n",
    "\n",
    "# Sum of the first 10 natural numbers\n",
    "print(sum_natural_numbers(10))\n"
   ]
  },
  {
   "cell_type": "code",
   "execution_count": null,
   "id": "e4d00bd6-cb35-4cec-be2a-57ff585b0f11",
   "metadata": {},
   "outputs": [],
   "source": [
    "#Print Patterns"
   ]
  },
  {
   "cell_type": "code",
   "execution_count": 15,
   "id": "253a67ae-bf95-45f6-b24c-436459b18c91",
   "metadata": {},
   "outputs": [
    {
     "name": "stdout",
     "output_type": "stream",
     "text": [
      "*\n",
      "**\n",
      "***\n",
      "****\n",
      "*****\n"
     ]
    }
   ],
   "source": [
    "##Pattern 1: Right Triangle\n",
    "def right_triangle(rows):\n",
    "    for i in range(1, rows + 1):\n",
    "        print('*' * i)\n",
    "\n",
    "# Print a right triangle with 5 rows\n",
    "right_triangle(5)\n"
   ]
  },
  {
   "cell_type": "code",
   "execution_count": 32,
   "id": "df9e3d45-c295-4d0f-8330-8348431236e3",
   "metadata": {},
   "outputs": [
    {
     "name": "stdout",
     "output_type": "stream",
     "text": [
      "    *\n",
      "   ***\n",
      "  *****\n",
      " *******\n",
      "*********\n"
     ]
    }
   ],
   "source": [
    "##Pattern 2: Pyramid\n",
    "def pyramid(rows):\n",
    "    for i in range(1, rows + 1):\n",
    "        print(' ' * (rows - i) + '*' * (2 * i - 1))\n",
    "\n",
    "# Print a pyramid with 5 rows\n",
    "pyramid(5)\n"
   ]
  },
  {
   "cell_type": "code",
   "execution_count": null,
   "id": "249d64ec-d614-4370-8c6c-21c94847fe6b",
   "metadata": {},
   "outputs": [],
   "source": [
    "## Factorial using While Loop\n",
    "\n"
   ]
  },
  {
   "cell_type": "code",
   "execution_count": 33,
   "id": "8da0efa9-2278-4d9e-8a5b-a9fae1882fa5",
   "metadata": {},
   "outputs": [
    {
     "name": "stdout",
     "output_type": "stream",
     "text": [
      "120\n"
     ]
    }
   ],
   "source": [
    "def factorial(n):\n",
    "    result = 1\n",
    "    while n > 0:\n",
    "        result *= n\n",
    "        n -= 1\n",
    "    return result\n",
    "\n",
    "# Factorial of 5\n",
    "print(factorial(5))"
   ]
  },
  {
   "cell_type": "code",
   "execution_count": null,
   "id": "591bb8af-f9de-4ab6-a7a6-60310777f90b",
   "metadata": {},
   "outputs": [],
   "source": [
    "#Fibonacci Sequence using Functions"
   ]
  },
  {
   "cell_type": "code",
   "execution_count": 35,
   "id": "c6afea8b-8413-4929-b5a0-10e8b1d584b1",
   "metadata": {},
   "outputs": [
    {
     "name": "stdout",
     "output_type": "stream",
     "text": [
      "0 1 1 2 3 5 8 13 21 34 "
     ]
    }
   ],
   "source": [
    "def fibonacci(n):\n",
    "    a, b = 0, 1\n",
    "    for _ in range(n):\n",
    "        print(a, end=' ')\n",
    "        a, b = b, a + b\n",
    "\n",
    "# Print the first 10 Fibonacci numbers\n",
    "fibonacci(10)\n"
   ]
  },
  {
   "cell_type": "code",
   "execution_count": null,
   "id": "f6fecba9-153a-45a8-a015-c839224fb3b2",
   "metadata": {},
   "outputs": [],
   "source": [
    "##Left traingle"
   ]
  },
  {
   "cell_type": "code",
   "execution_count": 23,
   "id": "97cc1d37-2e59-4d1a-ba5d-a3a1a6ee573a",
   "metadata": {},
   "outputs": [
    {
     "name": "stdout",
     "output_type": "stream",
     "text": [
      "******\n",
      "*****\n",
      "****\n",
      "***\n",
      "**\n",
      "*\n"
     ]
    }
   ],
   "source": [
    "def left_triangle(rows):\n",
    "    for i in range(rows, 0, -1):  # Loop starts at 'rows' and decrements down to 1\n",
    "        print('*' * i)\n",
    "\n",
    "# Print an upside-down left-aligned triangle with 6 rows\n",
    "left_triangle(6)"
   ]
  },
  {
   "cell_type": "code",
   "execution_count": null,
   "id": "9587a9d1-78df-414b-842d-4667b8d4a0de",
   "metadata": {},
   "outputs": [],
   "source": [
    "##UpsideDownTriangle"
   ]
  },
  {
   "cell_type": "code",
   "execution_count": 34,
   "id": "017f369a-e099-4093-98f4-ebd59b670321",
   "metadata": {},
   "outputs": [
    {
     "name": "stdin",
     "output_type": "stream",
     "text": [
      "Enter any number 9\n"
     ]
    },
    {
     "name": "stdout",
     "output_type": "stream",
     "text": [
      "********\n",
      " ******\n",
      "  ****\n",
      "   **\n"
     ]
    }
   ],
   "source": [
    "def upsideDown_triangle(rows):\n",
    "    for i in range(rows, 0, -2):\n",
    "        #1 Calculate the number of spaces needed for centering the stars\n",
    "        spaces = (rows - i) // 2# Calculate difference between rows and current value of i divided by 2 to center align it.\n",
    "        print(' ' * spaces + '*' * i)\n",
    "\n",
    "# Print an upside-down center-aligned triangle with 6 rows\n",
    "num=int(input('Enter any number'))\n",
    "upsideDown_triangle(8)\n"
   ]
  }
 ],
 "metadata": {
  "kernelspec": {
   "display_name": "Python 3 (ipykernel)",
   "language": "python",
   "name": "python3"
  },
  "language_info": {
   "codemirror_mode": {
    "name": "ipython",
    "version": 3
   },
   "file_extension": ".py",
   "mimetype": "text/x-python",
   "name": "python",
   "nbconvert_exporter": "python",
   "pygments_lexer": "ipython3",
   "version": "3.11.7"
  }
 },
 "nbformat": 4,
 "nbformat_minor": 5
}
