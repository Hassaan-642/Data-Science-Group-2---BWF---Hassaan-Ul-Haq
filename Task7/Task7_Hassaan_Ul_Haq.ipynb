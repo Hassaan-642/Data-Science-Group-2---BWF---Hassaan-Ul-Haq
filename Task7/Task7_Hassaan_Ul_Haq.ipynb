{
 "cells": [
  {
   "cell_type": "code",
   "execution_count": 2,
   "id": "cd153943-dcb0-450a-9280-c9712a00a151",
   "metadata": {},
   "outputs": [
    {
     "name": "stdout",
     "output_type": "stream",
     "text": [
      "\n",
      "Library Management System Menu:\n",
      "1. Add a Book\n",
      "2. Register a Member\n",
      "3. Issue a Book\n",
      "4. Return a Book\n",
      "5. Display All Books\n",
      "6. Display All Members\n",
      "7. Exit\n"
     ]
    },
    {
     "name": "stdin",
     "output_type": "stream",
     "text": [
      "Enter your choice:  1\n",
      "Enter the title of the book:  Hassaan\n",
      "Enter the author of the book:  Abdullah\n",
      "Enter the ISBN of the book:  123\n"
     ]
    },
    {
     "name": "stdout",
     "output_type": "stream",
     "text": [
      "Book titled 'Hassaan' added to the library.\n",
      "\n",
      "Library Management System Menu:\n",
      "1. Add a Book\n",
      "2. Register a Member\n",
      "3. Issue a Book\n",
      "4. Return a Book\n",
      "5. Display All Books\n",
      "6. Display All Members\n",
      "7. Exit\n"
     ]
    },
    {
     "name": "stdin",
     "output_type": "stream",
     "text": [
      "Enter your choice:  2\n",
      "Enter the name of the member:  Ayaan\n",
      "Enter the member ID:  456\n"
     ]
    },
    {
     "name": "stdout",
     "output_type": "stream",
     "text": [
      "Member named 'Ayaan' registered with ID 456.\n",
      "\n",
      "Library Management System Menu:\n",
      "1. Add a Book\n",
      "2. Register a Member\n",
      "3. Issue a Book\n",
      "4. Return a Book\n",
      "5. Display All Books\n",
      "6. Display All Members\n",
      "7. Exit\n"
     ]
    },
    {
     "name": "stdin",
     "output_type": "stream",
     "text": [
      "Enter your choice:  3\n",
      "Enter the title of the book to issue:  Hassaan\n",
      "Enter the name of the member to issue the book to:  Ayaan\n"
     ]
    },
    {
     "name": "stdout",
     "output_type": "stream",
     "text": [
      "Ayaan has borrowed 'Hassaan'.\n",
      "\n",
      "Library Management System Menu:\n",
      "1. Add a Book\n",
      "2. Register a Member\n",
      "3. Issue a Book\n",
      "4. Return a Book\n",
      "5. Display All Books\n",
      "6. Display All Members\n",
      "7. Exit\n"
     ]
    },
    {
     "name": "stdin",
     "output_type": "stream",
     "text": [
      "Enter your choice:  4\n",
      "Enter the title of the book to return:  Hassaan\n",
      "Enter the name of the member to return the book to:  Ayaan\n"
     ]
    },
    {
     "name": "stdout",
     "output_type": "stream",
     "text": [
      "Ayaan has returned 'Hassaan'.\n",
      "\n",
      "Library Management System Menu:\n",
      "1. Add a Book\n",
      "2. Register a Member\n",
      "3. Issue a Book\n",
      "4. Return a Book\n",
      "5. Display All Books\n",
      "6. Display All Members\n",
      "7. Exit\n"
     ]
    },
    {
     "name": "stdin",
     "output_type": "stream",
     "text": [
      "Enter your choice:  5\n"
     ]
    },
    {
     "name": "stdout",
     "output_type": "stream",
     "text": [
      "Library Books:\n",
      "Title: Hassaan, Author: Abdullah, ISBN: 123, Status: available\n",
      "\n",
      "Library Management System Menu:\n",
      "1. Add a Book\n",
      "2. Register a Member\n",
      "3. Issue a Book\n",
      "4. Return a Book\n",
      "5. Display All Books\n",
      "6. Display All Members\n",
      "7. Exit\n"
     ]
    },
    {
     "name": "stdin",
     "output_type": "stream",
     "text": [
      "Enter your choice:  6\n"
     ]
    },
    {
     "name": "stdout",
     "output_type": "stream",
     "text": [
      "Library Members:\n",
      "Name: Ayaan, Member ID: 456, Borrowed Books: []\n",
      "\n",
      "Library Management System Menu:\n",
      "1. Add a Book\n",
      "2. Register a Member\n",
      "3. Issue a Book\n",
      "4. Return a Book\n",
      "5. Display All Books\n",
      "6. Display All Members\n",
      "7. Exit\n"
     ]
    },
    {
     "name": "stdin",
     "output_type": "stream",
     "text": [
      "Enter your choice:  7\n"
     ]
    },
    {
     "name": "stdout",
     "output_type": "stream",
     "text": [
      "Exiting Library Management System.\n"
     ]
    }
   ],
   "source": [
    "# Define the Book class\n",
    "class Book:\n",
    "    def __init__(self, title, author, ISBN):\n",
    "        self.title = title  # Initialize the title attribute of the book\n",
    "        self.author = author  # Initialize the author attribute of the book\n",
    "        self.ISBN = ISBN  # Initialize the ISBN attribute of the book\n",
    "        self.status = \"available\"  # Initialize the status attribute of the book to \"available\"\n",
    "        #self is used to define instance of the class\n",
    "\n",
    "    def display_info(self):\n",
    "        # Display the book's information\n",
    "        print(f\"Title: {self.title}, Author: {self.author}, ISBN: {self.ISBN}, Status: {self.status}\")\n",
    "\n",
    "    def mark_as_borrowed(self):\n",
    "        # Mark the book as borrowed\n",
    "        self.status = \"borrowed\"\n",
    "\n",
    "    def mark_as_returned(self):\n",
    "        # Mark the book as available\n",
    "        self.status = \"available\"\n",
    "\n",
    "# Define the Member class\n",
    "class Member:\n",
    "    def __init__(self, name, member_id):\n",
    "        self.name = name  # Initialize the name attribute of the member\n",
    "        self.member_id = member_id  # Initialize the member ID attribute of the member\n",
    "        self.borrowed_books = []  # Initialize an empty list to store borrowed books\n",
    "\n",
    "    def borrow_book(self, book):\n",
    "        # Borrow a book if it is available\n",
    "        if book.status == \"available\":  # Check if the book's status is \"available\"\n",
    "            book.mark_as_borrowed()  # Mark the book as borrowed\n",
    "            self.borrowed_books.append(book)  # Add the book to the member's list of borrowed books\n",
    "            print(f\"{self.name} has borrowed '{book.title}'.\")  # Print a message indicating the book has been borrowed\n",
    "        else:\n",
    "            # If the book is not available, print a message indicating it is borrowed by someone else\n",
    "            print(f\"Sorry, '{book.title}' is currently borrowed by someone else.\")\n",
    "\n",
    "    def return_book(self, book):\n",
    "        # Return a book if it is borrowed by the member\n",
    "        if book in self.borrowed_books:  # Check if the book is in the member's list of borrowed books\n",
    "            book.mark_as_returned()  # Mark the book as returned\n",
    "            self.borrowed_books.remove(book)  # Remove the book from the member's list of borrowed books\n",
    "            print(f\"{self.name} has returned '{book.title}'.\")  # Print a message indicating the book has been returned\n",
    "        else:\n",
    "            # If the book is not in the member's list of borrowed books, print a message\n",
    "            print(f\"{self.name} does not have '{book.title}'.\")\n",
    "\n",
    "    def display_info(self):\n",
    "        # Display the member's information\n",
    "        borrowed_titles = [book.title for book in self.borrowed_books]  # Create a list of borrowed book titles\n",
    "        print(f\"Name: {self.name}, Member ID: {self.member_id}, Borrowed Books: {borrowed_titles}\")\n",
    "        # Print the member's name, member ID, and titles of borrowed books\n",
    "\n",
    "# Define the Library class\n",
    "class Library:\n",
    "    def __init__(self):\n",
    "        self.books = []  # Initialize an empty list to store books\n",
    "        self.members = []  # Initialize an empty list to store members\n",
    "\n",
    "    def add_book(self, book):\n",
    "        # Add a book to the library\n",
    "        self.books.append(book)  # Append the book object to the list of books in the library\n",
    "        print(f\"Book titled '{book.title}' added to the library.\")  # Print a message indicating the book has been added\n",
    "\n",
    "    def register_member(self, member):\n",
    "        # Register a member to the library\n",
    "        self.members.append(member)  # Append the member object to the list of members in the library\n",
    "        print(f\"Member named '{member.name}' registered with ID {member.member_id}.\")\n",
    "        # Print a message indicating the member has been registered\n",
    "\n",
    "    def issue_book(self, book, member):\n",
    "        # Issue a book to a member\n",
    "        if book in self.books and member in self.members:  # Check if both the book and member exist in the library\n",
    "            member.borrow_book(book)  # Call the borrow_book method of the Member class to borrow the book\n",
    "        else:\n",
    "            print(\"Book or Member not found in the library system.\")\n",
    "            # Print a message indicating the book or member is not found in the library\n",
    "\n",
    "    def return_book(self, book, member):\n",
    "        # Return a book from a member\n",
    "        if book in self.books and member in self.members:  # Check if both the book and member exist in the library\n",
    "            member.return_book(book)  # Call the return_book method of the Member class to return the book\n",
    "        else:\n",
    "            print(\"Book or Member not found in the library system.\")\n",
    "            # Print a message indicating the book or member is not found in the library\n",
    "\n",
    "    def display_all_books(self):\n",
    "        # Display all books in the library\n",
    "        print(\"Library Books:\")\n",
    "        for book in self.books:  # Iterate through the list of books in the library\n",
    "            book.display_info()  # Call the display_info method of the Book class to display book information\n",
    "\n",
    "    def display_all_members(self):\n",
    "        # Display all members in the library\n",
    "        print(\"Library Members:\")\n",
    "        for member in self.members:  # Iterate through the list of members in the library\n",
    "            member.display_info()  # Call the display_info method of the Member class to display member information\n",
    "\n",
    "# Function to display menu and handle user input\n",
    "def display_menu():\n",
    "    print(\"\\nLibrary Management System Menu:\")\n",
    "    print(\"1. Add a Book\")\n",
    "    print(\"2. Register a Member\")\n",
    "    print(\"3. Issue a Book\")\n",
    "    print(\"4. Return a Book\")\n",
    "    print(\"5. Display All Books\")\n",
    "    print(\"6. Display All Members\")\n",
    "    print(\"7. Exit\")\n",
    "\n",
    "    choice = input(\"Enter your choice: \")  # Prompt the user to enter their choice\n",
    "    return choice  # Return the user's choice\n",
    "\n",
    "# Test the implementation\n",
    "if __name__ == \"__main__\":\n",
    "    library = Library()  # Create an instance of the Library class\n",
    "\n",
    "    while True:  # Start an indefinite loop for the menu\n",
    "        choice = display_menu()  # Call the display_menu function to show the menu and get user input\n",
    "\n",
    "        if choice == '1':  # If the user chooses option 1 (Add a Book)\n",
    "            title = input(\"Enter the title of the book: \")  # Prompt the user to enter the book's title\n",
    "            author = input(\"Enter the author of the book: \")  # Prompt the user to enter the book's author\n",
    "            ISBN = input(\"Enter the ISBN of the book: \")  # Prompt the user to enter the book's ISBN\n",
    "            book = Book(title, author, ISBN)  # Create a Book object with the entered details\n",
    "            library.add_book(book)  # Add the book to the library using the add_book method of the Library class\n",
    "\n",
    "        elif choice == '2':  # If the user chooses option 2 (Register a Member)\n",
    "            name = input(\"Enter the name of the member: \")  # Prompt the user to enter the member's name\n",
    "            member_id = input(\"Enter the member ID: \")  # Prompt the user to enter the member's ID\n",
    "            member = Member(name, member_id)  # Create a Member object with the entered details\n",
    "            library.register_member(member)  # Register the member to the library using the register_member method of the Library class\n",
    "\n",
    "        elif choice == '3':  # If the user chooses option 3 (Issue a Book)\n",
    "            book_title = input(\"Enter the title of the book to issue: \")  # Prompt the user to enter the title of the book to issue\n",
    "            member_name = input(\"Enter the name of the member to issue the book to: \")  # Prompt the user to enter the name of the member\n",
    "            book_to_issue = next((book for book in library.books if book.title == book_title), None)  # Find the book object with the entered title\n",
    "            member_to_issue = next((member for member in library.members if member.name == member_name), None)  # Find the member object with the entered name\n",
    "            if book_to_issue and member_to_issue:  # If both book and member are found\n",
    "                library.issue_book(book_to_issue, member_to_issue)  # Issue the book to the member using the issue_book method of the Library class\n",
    "            else:\n",
    "                print(\"Book or Member not found.\")  # Print a message if either book or member is not found\n",
    "\n",
    "        elif choice == '4':  # If the user chooses option 4 (Return a Book)\n",
    "            book_title = input(\"Enter the title of the book to return: \")  # Prompt the user to enter the title of the book to return\n",
    "            member_name = input(\"Enter the name of the member to return the book to: \")  # Prompt the user to enter the name of the member\n",
    "            book_to_return = next((book for book in library.books if book.title == book_title), None)  # Find the book object with the entered title\n",
    "            member_to_return = next((member for member in library.members if member.name == member_name), None)  # Find the member object with the entered name\n",
    "            if book_to_return and member_to_return:  # If both book and member are found\n",
    "                library.return_book(book_to_return, member_to_return)  # Return the book from the member using the return_book method of the Library class\n",
    "            else:\n",
    "                print(\"Book or Member not found.\")  # Print a message if either book or member is not found\n",
    "\n",
    "        elif choice == '5':  # If the user chooses option 5 (Display All Books)\n",
    "            library.display_all_books()  # Display all books in the library using the display_all_books method of the Library class\n",
    "\n",
    "        elif choice == '6':  # If the user chooses option 6 (Display All Members)\n",
    "            library.display_all_members()  # Display all members in the library using the display_all_members method of the Library class\n",
    "\n",
    "        elif choice == '7':  # If the user chooses option 7 (Exit)\n",
    "            print(\"Exiting Library Management System.\")  # Print a message indicating the system is exiting\n",
    "            break  # Exit the loop and end the program\n",
    "\n",
    "        else:\n",
    "            print(\"Invalid choice. Please enter a valid option.\")  # Print a message for invalid input\n"
   ]
  }
 ],
 "metadata": {
  "kernelspec": {
   "display_name": "Python 3 (ipykernel)",
   "language": "python",
   "name": "python3"
  },
  "language_info": {
   "codemirror_mode": {
    "name": "ipython",
    "version": 3
   },
   "file_extension": ".py",
   "mimetype": "text/x-python",
   "name": "python",
   "nbconvert_exporter": "python",
   "pygments_lexer": "ipython3",
   "version": "3.11.7"
  }
 },
 "nbformat": 4,
 "nbformat_minor": 5
}
