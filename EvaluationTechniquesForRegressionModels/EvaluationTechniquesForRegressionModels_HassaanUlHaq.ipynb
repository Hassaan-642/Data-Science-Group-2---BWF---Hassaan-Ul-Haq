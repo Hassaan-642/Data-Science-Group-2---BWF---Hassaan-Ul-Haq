{
 "cells": [
  {
   "cell_type": "markdown",
   "id": "4607e931-70ca-4c65-9fd2-f6b25059d376",
   "metadata": {},
   "source": [
    "# Evaluation Techniques for Regression Models"
   ]
  },
  {
   "cell_type": "markdown",
   "id": "2323a27d-3949-4378-aa93-f2ae36a6f266",
   "metadata": {},
   "source": [
    "### Evaluation techniques for regression models are crucial for assessing their performance. Common metrics include Mean Absolute Error (MAE), which measures the average magnitude of errors, and Mean Squared Error (MSE), which emphasizes larger errors due to squaring the differences. Root Mean Squared Error (RMSE) provides error estimates in the same unit as the target variable.R-squared (R²) indicates the proportion of variance explained by the model, while Adjusted R-squared accounts for the number of predictors. Mean Absolute Percentage Error (MAPE) offers a percentage-basedaccuracy metric, and Median Absolute Error provides a robust measure of central tendency for errors, less influenced by outliers. These metrics help in comparing and refining regression models."
   ]
  },
  {
   "cell_type": "markdown",
   "id": "3cd2b780-3b71-45db-9e0f-098f385248d2",
   "metadata": {},
   "source": [
    "###importing necessary libraries and dataset"
   ]
  },
  {
   "cell_type": "code",
   "execution_count": 4,
   "id": "e4828dd5-1ce7-487a-9677-8e735f65a304",
   "metadata": {},
   "outputs": [],
   "source": [
    "import pandas as pd\n",
    "import numpy as np\n",
    "from sklearn.model_selection import train_test_split\n",
    "from sklearn.linear_model import LinearRegression\n",
    "from sklearn.metrics import mean_squared_error, mean_absolute_error, r2_score, median_absolute_error\n",
    "\n",
    "\n",
    "data = pd.read_csv(r'C:\\Users\\Huawei\\Desktop\\Reg_EnergyData.csv')\n",
    "\n",
    "# Features and target\n",
    "X = data[['Appliances', 'lights', 'T1', 'RH_1', 'Press_mm_hg', 'RH_out', 'Windspeed']]\n",
    "y = data['Visibility']"
   ]
  },
  {
   "cell_type": "markdown",
   "id": "0b80b088-d957-4633-a1e0-a70743ae4974",
   "metadata": {},
   "source": [
    "### Split the data into train and testing sets"
   ]
  },
  {
   "cell_type": "code",
   "execution_count": 5,
   "id": "e9a087a6-cb6e-4ae3-a79c-4b1ba1792145",
   "metadata": {},
   "outputs": [],
   "source": [
    "X_train, X_test, y_train, y_test = train_test_split(X, y, test_size=0.2, random_state=42)"
   ]
  },
  {
   "cell_type": "markdown",
   "id": "3222304c-870d-4b10-ba1f-a4e2e5a84adb",
   "metadata": {},
   "source": [
    "### Linear Regression "
   ]
  },
  {
   "cell_type": "code",
   "execution_count": 6,
   "id": "90a0746c-09df-4d62-9f74-c4411477b2bc",
   "metadata": {},
   "outputs": [],
   "source": [
    "model_lr = LinearRegression()\n",
    "model_lr.fit(X_train, y_train)\n",
    "y_pred_lr = model_lr.predict(X_test)"
   ]
  },
  {
   "cell_type": "markdown",
   "id": "1d4027aa-d441-443a-9cb6-58d2ead450c5",
   "metadata": {},
   "source": [
    "### MSE(Mean Squared Error)"
   ]
  },
  {
   "cell_type": "code",
   "execution_count": 7,
   "id": "b3c230cf-5df1-4a4d-951e-58268058e473",
   "metadata": {},
   "outputs": [
    {
     "name": "stdout",
     "output_type": "stream",
     "text": [
      "MSE(MeanSquaredError):  5423.592725549897\n"
     ]
    }
   ],
   "source": [
    "mse_lr = mean_squared_error(y_test, y_pred_lr)\n",
    "print(\"MSE(MeanSquaredError): \", mse_lr)"
   ]
  },
  {
   "cell_type": "markdown",
   "id": "236adde7-fa46-40cf-9d10-e76d74f513b0",
   "metadata": {},
   "source": [
    "###. Mean Squared Error (MSE) is a measure of how well a model's predictions match the actual data.  The value 5423.59 indicates that on average the squared differences between predicted and actual values are around 5423.59.  A lower MSE means better model accuracy."
   ]
  },
  {
   "cell_type": "markdown",
   "id": "ac62a68a-9863-4e73-b7b6-b5172bc48529",
   "metadata": {},
   "source": [
    "### MAE(Mean Absolute Error)"
   ]
  },
  {
   "cell_type": "code",
   "execution_count": 8,
   "id": "676289bf-c152-4b97-a983-f934f3a7026a",
   "metadata": {},
   "outputs": [
    {
     "name": "stdout",
     "output_type": "stream",
     "text": [
      "MSE(MeanAbsoluteError):  37.56916426508724\n"
     ]
    }
   ],
   "source": [
    "mae_lr = mean_absolute_error(y_test, y_pred_lr)\n",
    "print(\"MSE(MeanAbsoluteError): \", mae_lr)"
   ]
  },
  {
   "cell_type": "markdown",
   "id": "5df3b8ab-c165-4a92-832f-624e38562b5f",
   "metadata": {},
   "source": [
    "###. MAE Measures the average magnitude of errors in predictions. The value 37.57 means that on average the model's predictions are about 37.57 units away from the actual values."
   ]
  },
  {
   "cell_type": "markdown",
   "id": "02f3a5ff-5914-43b1-a891-6fce45059ad6",
   "metadata": {},
   "source": [
    "### R_Squared"
   ]
  },
  {
   "cell_type": "code",
   "execution_count": 9,
   "id": "bd9756f8-a089-4ddb-8458-d07e625ded80",
   "metadata": {},
   "outputs": [
    {
     "name": "stdout",
     "output_type": "stream",
     "text": [
      "R_Squared:  -23.4099813245565\n"
     ]
    }
   ],
   "source": [
    "r2_lr = r2_score(y_test, y_pred_lr)\n",
    "print(\"R_Squared: \", r2_lr)"
   ]
  },
  {
   "cell_type": "markdown",
   "id": "c4a58054-d3f4-4654-ac14-9eacc6366e0b",
   "metadata": {},
   "source": [
    "###. The R-squared value indicates how well the model's predictions are close to the actual values. Negative values suggest poor prediction i.e model is not capturing the relationship in the data effectively."
   ]
  },
  {
   "cell_type": "markdown",
   "id": "cb510fa9-38ba-4d1b-93d9-10caa4e20662",
   "metadata": {},
   "source": [
    "### Adjusted R_Squared"
   ]
  },
  {
   "cell_type": "code",
   "execution_count": 10,
   "id": "c9a3b3ee-4a69-4abb-8828-eb9afc23a9a9",
   "metadata": {},
   "outputs": [
    {
     "name": "stdout",
     "output_type": "stream",
     "text": [
      "Adjusted R-squared:  19.307485993417377\n"
     ]
    }
   ],
   "source": [
    "n = len(y_test)\n",
    "k = X_test.shape[1]\n",
    "adj_r2 = 1 - (1 - r2_lr) * (n - 1) / (n - k - 1)\n",
    "print(\"Adjusted R-squared: \", adj_r2)"
   ]
  },
  {
   "cell_type": "markdown",
   "id": "0a832576-7b2b-47e5-b3b4-cfede191c73a",
   "metadata": {},
   "source": [
    "###. Adjusted R-squared shows how well the model's predictions match the actual data considering how many factors (predictors) i used. A value of 19.31% means that the model can account for 19.31% of the differences or variations in the data. it means model misses a lot of variations in the data. "
   ]
  },
  {
   "cell_type": "markdown",
   "id": "a0d30b25-ca27-4b31-8e56-02570a5e412b",
   "metadata": {},
   "source": [
    "### RMSE (Root Mean Squared Error)"
   ]
  },
  {
   "cell_type": "code",
   "execution_count": 11,
   "id": "82e94ff1-4b80-47ff-ace9-23501bb361aa",
   "metadata": {},
   "outputs": [
    {
     "name": "stdout",
     "output_type": "stream",
     "text": [
      "Root mean squared error :  73.64504549221147\n"
     ]
    }
   ],
   "source": [
    "rmse = np.sqrt(mse_lr)\n",
    "print(\"Root mean squared error : \",rmse)\n"
   ]
  },
  {
   "cell_type": "markdown",
   "id": "28f48f25-5da1-444c-a62b-190b5cb47a8b",
   "metadata": {},
   "source": [
    "###. Root Mean Squared Error (RMSE) measures the average size of errors in predictions. An RMSE of 73.65 means that on average the model predictions are about 73.65 units away from the actual values. Low value of RMSE indicates better accuracy."
   ]
  },
  {
   "cell_type": "markdown",
   "id": "1490d473-e01e-4cfa-80fd-81c31ec209c8",
   "metadata": {},
   "source": [
    "### MAPE (Mean Absolute Percentage Error)"
   ]
  },
  {
   "cell_type": "code",
   "execution_count": 15,
   "id": "3c46b5f2-646d-4888-870b-45edf3b7a8de",
   "metadata": {},
   "outputs": [
    {
     "name": "stdout",
     "output_type": "stream",
     "text": [
      "Mean Absolute Percentage Error:  60.85610437139359\n"
     ]
    }
   ],
   "source": [
    "nonzero_indices = y_test != 0 #as division by zero will give infinity which is a wrong value\n",
    "mape = np.mean(np.abs((y_test[nonzero_indices] - y_pred_lr[nonzero_indices]) / y_test[nonzero_indices])) * 100\n",
    "print(\"Mean Absolute Percentage Error: \", mape)"
   ]
  },
  {
   "cell_type": "markdown",
   "id": "b984204b-26d6-478e-96c5-5999e154577f",
   "metadata": {},
   "source": [
    "###. Mean Absolute Percentage Error (MAPE) shows the average percentage by which the model's predictions differ from the actual values. A MAPE of 60.86% means that on average the predictions are about 60.86% differ from the actual values. Low Mape value indicates better accuracy."
   ]
  },
  {
   "cell_type": "markdown",
   "id": "fbb85d13-caf1-42c1-b46b-3f959450b397",
   "metadata": {},
   "source": [
    "### Median Absolute Error"
   ]
  },
  {
   "cell_type": "code",
   "execution_count": 14,
   "id": "67f50261-1ef3-44af-b9b6-6d86d3e55d71",
   "metadata": {},
   "outputs": [
    {
     "name": "stdout",
     "output_type": "stream",
     "text": [
      "Median Absolute Error:  1.106500747428072\n"
     ]
    }
   ],
   "source": [
    "median_abs_error = median_absolute_error(y_test, y_pred_lr)\n",
    "print(\"Median Absolute Error: \",median_abs_error)"
   ]
  },
  {
   "cell_type": "markdown",
   "id": "192c2352-b06d-4963-81d3-0f42e2156134",
   "metadata": {},
   "source": [
    "###. Median Absolute Error shows the size of prediction errors. A value of 1.106... indicates the model's predictions are about 1.106... units away from the actual values."
   ]
  }
 ],
 "metadata": {
  "kernelspec": {
   "display_name": "Python 3 (ipykernel)",
   "language": "python",
   "name": "python3"
  },
  "language_info": {
   "codemirror_mode": {
    "name": "ipython",
    "version": 3
   },
   "file_extension": ".py",
   "mimetype": "text/x-python",
   "name": "python",
   "nbconvert_exporter": "python",
   "pygments_lexer": "ipython3",
   "version": "3.11.7"
  }
 },
 "nbformat": 4,
 "nbformat_minor": 5
}
