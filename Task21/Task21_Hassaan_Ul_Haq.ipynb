{
 "cells": [
  {
   "cell_type": "markdown",
   "id": "2a49adb9-751e-4151-8f2d-4c0d6a0da824",
   "metadata": {},
   "source": [
    "#Task21 -> Linear algebra and calculus in NumPy"
   ]
  },
  {
   "cell_type": "markdown",
   "id": "dd2fcd2c-e09b-41d0-a9fb-938f8cac164d",
   "metadata": {},
   "source": [
    "#Linear Algebra Tasks"
   ]
  },
  {
   "cell_type": "markdown",
   "id": "ffb7b4c1-6024-4238-b106-bc0cbdfb1e30",
   "metadata": {},
   "source": [
    "##1. Matrix Creation and Manipulation"
   ]
  },
  {
   "cell_type": "markdown",
   "id": "f9d613a2-f007-4149-b39e-58e659d8561e",
   "metadata": {},
   "source": [
    "###Create various types of matrices (zero matrix, identity matrix, random matrix"
   ]
  },
  {
   "cell_type": "code",
   "execution_count": 2,
   "id": "d061089a-4061-4329-b6d9-82af03fea3fe",
   "metadata": {},
   "outputs": [
    {
     "name": "stdout",
     "output_type": "stream",
     "text": [
      "Zero Matrix:\n",
      " [[0. 0. 0.]\n",
      " [0. 0. 0.]\n",
      " [0. 0. 0.]]\n",
      "\n",
      "\n",
      "Identity Matrix:\n",
      " [[1. 0. 0.]\n",
      " [0. 1. 0.]\n",
      " [0. 0. 1.]]\n",
      "\n",
      "\n",
      "Random Matrix:\n",
      " [[0.69628986 0.88620407 0.15515523]\n",
      " [0.57596181 0.02247378 0.84833683]\n",
      " [0.51450851 0.86122974 0.19379243]]\n"
     ]
    }
   ],
   "source": [
    "import numpy as np\n",
    "\n",
    "# Zero matrix\n",
    "zero_matrix = np.zeros((3, 3))\n",
    "\n",
    "# Identity matrix\n",
    "identity_matrix = np.eye(3)\n",
    "\n",
    "# Random matrix\n",
    "random_matrix = np.random.rand(3, 3)\n",
    "\n",
    "print(\"Zero Matrix:\\n\", zero_matrix)\n",
    "print('\\n')\n",
    "print(\"Identity Matrix:\\n\", identity_matrix)\n",
    "print('\\n')\n",
    "print(\"Random Matrix:\\n\", random_matrix)\n"
   ]
  },
  {
   "cell_type": "markdown",
   "id": "79daf357-6667-4caa-868a-18c6b817ea28",
   "metadata": {},
   "source": [
    "###Perform basic matrix operations (addition, subtraction, multiplication)."
   ]
  },
  {
   "cell_type": "code",
   "execution_count": 4,
   "id": "0f066522-8814-4d55-9b80-22222bfd836b",
   "metadata": {},
   "outputs": [
    {
     "name": "stdout",
     "output_type": "stream",
     "text": [
      "Matrix Sum:\n",
      " [[1.69628986 0.88620407 0.15515523]\n",
      " [0.57596181 1.02247378 0.84833683]\n",
      " [0.51450851 0.86122974 1.19379243]]\n",
      "\n",
      "\n",
      "Matrix Difference:\n",
      " [[-0.30371014  0.88620407  0.15515523]\n",
      " [ 0.57596181 -0.97752622  0.84833683]\n",
      " [ 0.51450851  0.86122974 -0.80620757]]\n",
      "\n",
      "\n",
      "Matrix Product:\n",
      " [[0.69628986 0.88620407 0.15515523]\n",
      " [0.57596181 0.02247378 0.84833683]\n",
      " [0.51450851 0.86122974 0.19379243]]\n"
     ]
    }
   ],
   "source": [
    "# Matrix addition\n",
    "matrix_sum = random_matrix + identity_matrix\n",
    "\n",
    "# Matrix subtraction\n",
    "matrix_diff = random_matrix - identity_matrix\n",
    "\n",
    "# Matrix multiplication\n",
    "matrix_product = np.dot(random_matrix, identity_matrix)\n",
    "\n",
    "print(\"Matrix Sum:\\n\", matrix_sum)\n",
    "print('\\n')\n",
    "print(\"Matrix Difference:\\n\", matrix_diff)\n",
    "print('\\n')\n",
    "print(\"Matrix Product:\\n\", matrix_product)\n"
   ]
  },
  {
   "cell_type": "markdown",
   "id": "f0b569ae-7d0b-4568-8256-62540b700069",
   "metadata": {},
   "source": [
    "###Transpose a matrix and find the determinant and inverse of a matrix."
   ]
  },
  {
   "cell_type": "code",
   "execution_count": 5,
   "id": "4dfe5b86-3709-450f-bc46-e722e9f72506",
   "metadata": {},
   "outputs": [
    {
     "name": "stdout",
     "output_type": "stream",
     "text": [
      "Transpose Matrix:\n",
      " [[0.69628986 0.57596181 0.51450851]\n",
      " [0.88620407 0.02247378 0.86122974]\n",
      " [0.15515523 0.84833683 0.19379243]]\n",
      "\n",
      "\n",
      "Determinant:\n",
      " -0.14262561529986031\n",
      "\n",
      "\n",
      "Inverse Matrix:\n",
      " [[ 5.09205628  0.2672405  -5.24669163]\n",
      " [-2.27770782 -0.38637532  3.51497062]\n",
      " [-3.3968126   1.00757501  3.46902222]]\n"
     ]
    }
   ],
   "source": [
    "# Transpose\n",
    "transpose_matrix = np.transpose(random_matrix)\n",
    "\n",
    "# Determinant\n",
    "determinant = np.linalg.det(random_matrix)\n",
    "\n",
    "# Inverse\n",
    "inverse_matrix = np.linalg.inv(random_matrix)\n",
    "\n",
    "print(\"Transpose Matrix:\\n\", transpose_matrix)\n",
    "print('\\n')\n",
    "print(\"Determinant:\\n\", determinant)\n",
    "print('\\n')\n",
    "print(\"Inverse Matrix:\\n\", inverse_matrix)\n"
   ]
  },
  {
   "cell_type": "markdown",
   "id": "98be5ab3-4774-4e5f-8bec-c59462adcec5",
   "metadata": {},
   "source": [
    "##2. Solving Linear Equations"
   ]
  },
  {
   "cell_type": "markdown",
   "id": "36475a9b-0d07-4e4b-adc7-017df302690c",
   "metadata": {},
   "source": [
    "###Use NumPy to solve a system of linear equations."
   ]
  },
  {
   "cell_type": "code",
   "execution_count": 45,
   "id": "5613b046-ed59-4c3c-a080-4fca0da8612e",
   "metadata": {},
   "outputs": [
    {
     "name": "stdout",
     "output_type": "stream",
     "text": [
      "Solution of the system:\n",
      " [2. 3.]\n"
     ]
    }
   ],
   "source": [
    "# Coefficient matrix\n",
    "A = np.array([[3, 1], [1, 2]])\n",
    "\n",
    "# Dependent variable matrix\n",
    "b = np.array([9, 8])\n",
    "\n",
    "x = np.linalg.solve(A, b)\n",
    "print(\"Solution of the system:\\n\", x)\n"
   ]
  },
  {
   "cell_type": "markdown",
   "id": "cc263e14-d23f-4326-a98c-b8cddf2eb8be",
   "metadata": {},
   "source": [
    "###Implement matrix factorization methods (LU decomposition, QR decomposition)."
   ]
  },
  {
   "cell_type": "code",
   "execution_count": 9,
   "id": "a9eca9d3-074e-41b3-8dbc-d779110089cf",
   "metadata": {},
   "outputs": [
    {
     "name": "stdout",
     "output_type": "stream",
     "text": [
      "LU Decomposition:\n",
      "P:\n",
      " [[1. 0.]\n",
      " [0. 1.]] \n",
      "L:\n",
      " [[1.         0.        ]\n",
      " [0.33333333 1.        ]] \n",
      "U:\n",
      " [[3.         1.        ]\n",
      " [0.         1.66666667]]\n",
      "\n",
      "\n",
      "QR Decomposition:\n",
      "Q:\n",
      " [[-0.9486833  -0.31622777]\n",
      " [-0.31622777  0.9486833 ]] \n",
      "R:\n",
      " [[-3.16227766 -1.58113883]\n",
      " [ 0.          1.58113883]]\n"
     ]
    }
   ],
   "source": [
    "# LU decomposition\n",
    "from scipy.linalg import lu\n",
    "P, L, U = lu(A)\n",
    "print(\"LU Decomposition:\\nP:\\n\", P, \"\\nL:\\n\", L, \"\\nU:\\n\", U)\n",
    "print('\\n')\n",
    "# QR decomposition\n",
    "Q, R = np.linalg.qr(A)\n",
    "print(\"QR Decomposition:\\nQ:\\n\", Q, \"\\nR:\\n\", R)\n"
   ]
  },
  {
   "cell_type": "markdown",
   "id": "6d68daf4-4926-46f5-8c94-ac34099aba7e",
   "metadata": {},
   "source": [
    "##3. Eigenvalues and Eigenvectors"
   ]
  },
  {
   "cell_type": "markdown",
   "id": "1396a21a-cbde-4aaf-a2b7-6ac5da575123",
   "metadata": {},
   "source": [
    "###Calculate the eigenvalues and eigenvectors of a given matrix."
   ]
  },
  {
   "cell_type": "code",
   "execution_count": 44,
   "id": "a1ed689d-7401-4b46-b4c2-8b379f6bd438",
   "metadata": {},
   "outputs": [
    {
     "name": "stdout",
     "output_type": "stream",
     "text": [
      "Eigenvalues:\n",
      " [3.61803399 1.38196601]\n",
      "\n",
      "\n",
      "Eigenvectors:\n",
      " [[ 0.85065081 -0.52573111]\n",
      " [ 0.52573111  0.85065081]]\n"
     ]
    }
   ],
   "source": [
    "eigenvalues, eigenvectors = np.linalg.eig(A) # I take matrix A to get its eigen values and eigen vectors\n",
    "print(\"Eigenvalues:\\n\", eigenvalues)\n",
    "print('\\n')\n",
    "print(\"Eigenvectors:\\n\", eigenvectors)\n",
    "\n"
   ]
  },
  {
   "cell_type": "markdown",
   "id": "d4cb4cad-fafd-46a1-8bf0-b082d971dacc",
   "metadata": {},
   "source": [
    "###Verify the results by reconstructing the original matrix."
   ]
  },
  {
   "cell_type": "code",
   "execution_count": 14,
   "id": "ed043919-303b-4ce4-b131-82aa39abf0a6",
   "metadata": {},
   "outputs": [
    {
     "name": "stdout",
     "output_type": "stream",
     "text": [
      "Reconstructed A:\n",
      " [[3. 1.]\n",
      " [1. 2.]]\n"
     ]
    }
   ],
   "source": [
    "reconstructed_A = eigenvectors @ np.diag(eigenvalues) @ np.linalg.inv(eigenvectors)\n",
    "print(\"Reconstructed A:\\n\", reconstructed_A)"
   ]
  },
  {
   "cell_type": "markdown",
   "id": "4c546479-49d8-42db-ae80-84f3f83257bb",
   "metadata": {},
   "source": [
    "##4. Vector Operations"
   ]
  },
  {
   "cell_type": "markdown",
   "id": "507c798e-0656-45a6-8dd0-716b1505fe3f",
   "metadata": {},
   "source": [
    "###Perform basic vector operations (addition, dot product, cross product)."
   ]
  },
  {
   "cell_type": "code",
   "execution_count": 43,
   "id": "f2b27089-563b-453a-a4a4-e46e1f9a32c4",
   "metadata": {},
   "outputs": [
    {
     "name": "stdout",
     "output_type": "stream",
     "text": [
      "Vector Addition:\n",
      " [5 7 9]\n",
      "\n",
      "\n",
      "Dot Product:\n",
      " 32\n",
      "\n",
      "\n",
      "Cross Product:\n",
      " [-3  6 -3]\n"
     ]
    }
   ],
   "source": [
    "v1 = np.array([1, 2, 3])\n",
    "v2 = np.array([4, 5, 6])\n",
    "\n",
    "# Addition\n",
    "v_add = v1 + v2\n",
    "\n",
    "# Dot product\n",
    "v_dot = np.dot(v1, v2)\n",
    "\n",
    "# Cross product\n",
    "v_cross = np.cross(v1, v2)\n",
    "\n",
    "\n",
    "\n",
    "print(\"Vector Addition:\\n\", v_add)\n",
    "print('\\n')\n",
    "print(\"Dot Product:\\n\", v_dot)\n",
    "print('\\n')\n",
    "print(\"Cross Product:\\n\", v_cross)\n",
    "\n"
   ]
  },
  {
   "cell_type": "markdown",
   "id": "746faeaf-fb07-4b0c-ab9d-08e90b715c2f",
   "metadata": {},
   "source": [
    "###Normalize a vector and compute vector norms."
   ]
  },
  {
   "cell_type": "code",
   "execution_count": 42,
   "id": "73c5dcd4-f67a-4dec-af6a-74cc89aa7e7a",
   "metadata": {},
   "outputs": [
    {
     "name": "stdout",
     "output_type": "stream",
     "text": [
      "Normalized Vector:\n",
      " [0.26726124 0.53452248 0.80178373]\n"
     ]
    }
   ],
   "source": [
    "v1_norm = np.linalg.norm(v1)\n",
    "v1_normalized = v1 / v1_norm\n",
    "print(\"Normalized Vector:\\n\", v1_normalized)"
   ]
  },
  {
   "cell_type": "markdown",
   "id": "47957044-06db-421f-954d-da5159e09367",
   "metadata": {},
   "source": [
    "##5. Matrix Decomposition"
   ]
  },
  {
   "cell_type": "markdown",
   "id": "758b6f58-c325-4024-ac21-0d2e848f338e",
   "metadata": {},
   "source": [
    "###Understand and implement Principal Component Analysis (PCA) using SVD."
   ]
  },
  {
   "cell_type": "code",
   "execution_count": 47,
   "id": "97f700ef-5730-478d-ae4f-937338d22f94",
   "metadata": {},
   "outputs": [
    {
     "name": "stdout",
     "output_type": "stream",
     "text": [
      "Principal Components:\n",
      " [[-1.21748583  0.05774512 -0.25140322]\n",
      " [-0.5702674  -0.67558774  0.0369478 ]\n",
      " [-0.5729234   0.11273787  0.25734225]\n",
      " [-0.81803312  0.10855471  0.39718203]\n",
      " [-0.96283836  0.16780624 -0.19456612]]\n"
     ]
    }
   ],
   "source": [
    "X = np.random.rand(5, 3)\n",
    "\n",
    "# Perform SVD\n",
    "U, S, VT = np.linalg.svd(X, full_matrices=False)\n",
    "\n",
    "# Principal components\n",
    "PCs = U @ np.diag(S)\n",
    "\n",
    "print(\"Principal Components:\\n\", PCs)\n"
   ]
  },
  {
   "cell_type": "markdown",
   "id": "df0455a9-869b-47a2-aa9c-a2b565ff6c8f",
   "metadata": {},
   "source": [
    "#Calculus Tasks"
   ]
  },
  {
   "cell_type": "markdown",
   "id": "a5b752d2-0732-462c-b0a0-3872fd111543",
   "metadata": {},
   "source": [
    "##1. Numerical Differentiation"
   ]
  },
  {
   "cell_type": "markdown",
   "id": "292e13c8-6076-49b9-b00a-d049ae358b5e",
   "metadata": {},
   "source": [
    "###Use NumPy to compute the numerical derivative of a given function."
   ]
  },
  {
   "cell_type": "markdown",
   "id": "2ad1257b-8213-4ead-a6a6-e51ad6abc1ed",
   "metadata": {},
   "source": [
    "###Implement forward, backward, and central difference methods for differentiation."
   ]
  },
  {
   "cell_type": "code",
   "execution_count": 24,
   "id": "b4e0bf0a-f431-40fc-85a3-1522b4274bed",
   "metadata": {},
   "outputs": [
    {
     "name": "stdout",
     "output_type": "stream",
     "text": [
      "Forward Difference:\n",
      " [4.00001]\n",
      "\n",
      "\n",
      "Backward Difference:\n",
      " [3.99999]\n",
      "\n",
      "\n",
      "Central Difference:\n",
      " [4.]\n"
     ]
    }
   ],
   "source": [
    "def f(x):\n",
    "    return x**2\n",
    "\n",
    "x = np.array([2.0])\n",
    "\n",
    "# Forward difference\n",
    "def forward_diff(f, x, h=1e-5):\n",
    "    return (f(x + h) - f(x)) / h\n",
    "\n",
    "# Backward difference\n",
    "def backward_diff(f, x, h=1e-5):\n",
    "    return (f(x) - f(x - h)) / h\n",
    "\n",
    "# Central difference\n",
    "def central_diff(f, x, h=1e-5):\n",
    "    return (f(x + h) - f(x - h)) / (2 * h)\n",
    "\n",
    "print(\"Forward Difference:\\n\", forward_diff(f, x))\n",
    "print('\\n')\n",
    "print(\"Backward Difference:\\n\", backward_diff(f, x))\n",
    "print('\\n')\n",
    "print(\"Central Difference:\\n\", central_diff(f, x))"
   ]
  },
  {
   "cell_type": "markdown",
   "id": "8e5b0b30-5ee5-433d-833d-37d200d04b55",
   "metadata": {},
   "source": [
    "##2. Numerical Integration"
   ]
  },
  {
   "cell_type": "markdown",
   "id": "8274b9ec-a2e5-4a54-bc82-00e521ea5e87",
   "metadata": {},
   "source": [
    "###Use NumPy to compute the numerical integral of a given function."
   ]
  },
  {
   "cell_type": "markdown",
   "id": "dd44b45d-fea7-4213-8bea-c65915b813b7",
   "metadata": {},
   "source": [
    "###Implement the trapezoidal rule and Simpson's rule for integration."
   ]
  },
  {
   "cell_type": "code",
   "execution_count": 30,
   "id": "e1846910-405e-4f2b-b605-b0a80e90df92",
   "metadata": {},
   "outputs": [
    {
     "name": "stdout",
     "output_type": "stream",
     "text": [
      "Trapezoidal Rule:\n",
      " 0.0\n",
      "\n",
      "\n",
      "Simpson's Rule:\n",
      " 0.30000000000000004\n"
     ]
    }
   ],
   "source": [
    "def g(x):\n",
    "    return z**2 + y**2\n",
    "\n",
    "y = np.array([3.0])\n",
    "z = np.array([6.0])\n",
    "\n",
    "# Trapezoidal rule\n",
    "def trapezoidal_rule(g, a, b, n):\n",
    "    x = np.linspace(a, b, n+1)\n",
    "    p = g(x)\n",
    "    return (b - a) * (np.sum(p) - (p[0] + p[-1]) / 2) / n\n",
    "\n",
    "# Simpson's rule\n",
    "def simpsons_rule(g, a, b, n):\n",
    "    if n % 2:\n",
    "        raise ValueError(\"n must be even\")\n",
    "    x = np.linspace(a, b, n+1)\n",
    "    p = g(x)\n",
    "    return (b - a) / (3 * n) * (p[0] + p[-1] + 4 * np.sum(p[1:-1:2]) + 2 * np.sum(p[2:-2:2]))\n",
    "\n",
    "a, b, n = 0, 1, 100\n",
    "print(\"Trapezoidal Rule:\\n\", trapezoidal_rule(g, a, b, n))\n",
    "print('\\n')\n",
    "print(\"Simpson's Rule:\\n\", simpsons_rule(g, a, b, n))"
   ]
  },
  {
   "cell_type": "markdown",
   "id": "194e6de1-5eef-4a7d-a82c-15b27e88d96a",
   "metadata": {},
   "source": [
    "##3. Partial Derivatives"
   ]
  },
  {
   "cell_type": "markdown",
   "id": "a0299384-14c4-4544-9477-ef65060bf636",
   "metadata": {},
   "source": [
    "###Calculate partial derivatives of multivariable functions using NumPy."
   ]
  },
  {
   "cell_type": "code",
   "execution_count": 32,
   "id": "82ef84d5-f10d-43ff-9b00-607771443b0e",
   "metadata": {},
   "outputs": [
    {
     "name": "stdout",
     "output_type": "stream",
     "text": [
      "Partial Derivative wrt x:\n",
      " 2.00001000001393\n",
      "\n",
      "\n",
      "Partial Derivative wrt y:\n",
      " 4.000010000027032\n"
     ]
    }
   ],
   "source": [
    "def f(x, y):\n",
    "    return x**2 + y**2\n",
    "\n",
    "def partial_x(f, x, y, h=1e-5):\n",
    "    return (f(x + h, y) - f(x, y)) / h\n",
    "\n",
    "def partial_y(f, x, y, h=1e-5):\n",
    "    return (f(x, y + h) - f(x, y)) / h\n",
    "\n",
    "x, y = 1, 2\n",
    "print(\"Partial Derivative wrt x:\\n\", partial_x(f, x, y))\n",
    "print('\\n')\n",
    "print(\"Partial Derivative wrt y:\\n\", partial_y(f, x, y))\n"
   ]
  },
  {
   "cell_type": "markdown",
   "id": "c48f14bc-f3e0-4529-9ec6-d37e205e7451",
   "metadata": {},
   "source": [
    "###Verify results by comparing with analytical solutions."
   ]
  },
  {
   "cell_type": "code",
   "execution_count": 34,
   "id": "e8938ce9-24d9-4c5a-b07b-786843d57858",
   "metadata": {},
   "outputs": [
    {
     "name": "stdout",
     "output_type": "stream",
     "text": [
      "Analytical Partial Derivative wrt x: 2\n",
      "\n",
      "\n",
      "Analytical Partial Derivative wrt y: 4\n",
      "\n",
      "\n",
      "The numerical partial derivatives computed are very close to the analytical partial derivatives, confirming the accuracy of the numerical methods\n"
     ]
    }
   ],
   "source": [
    "# Analytical partial derivatives\n",
    "partial_x_analytical = 2 * x\n",
    "partial_y_analytical = 2 * y\n",
    "\n",
    "print(\"Analytical Partial Derivative wrt x:\", partial_x_analytical)\n",
    "print('\\n')\n",
    "print(\"Analytical Partial Derivative wrt y:\", partial_y_analytical)\n",
    "print('\\n')\n",
    "print(\"The numerical partial derivatives computed are very close to the analytical partial derivatives, confirming the accuracy of the numerical methods\")"
   ]
  },
  {
   "cell_type": "markdown",
   "id": "7fda6ebe-d38c-4a19-9434-ff0231c6fa25",
   "metadata": {},
   "source": [
    "##4. Optimization"
   ]
  },
  {
   "cell_type": "markdown",
   "id": "fc90d637-bfd1-477f-b50a-6e9969b21e0f",
   "metadata": {},
   "source": [
    "###Use NumPy to solve optimization problems with constraints."
   ]
  },
  {
   "cell_type": "code",
   "execution_count": 48,
   "id": "7228d9c3-7741-420a-b643-150b8b4a9e98",
   "metadata": {},
   "outputs": [
    {
     "name": "stdout",
     "output_type": "stream",
     "text": [
      "Optimization Solution: [0.55555556 0.55555556]\n"
     ]
    }
   ],
   "source": [
    "def gradient_descent_with_constraint(objective, gradient, constraint, k, learning_rate=0.1, tolerance=1e-6, max_iters=1000):\n",
    "    x = np.copy(k)\n",
    "    for i in range(max_iters):\n",
    "        grad = gradient(x)\n",
    "        x = x - learning_rate * grad\n",
    "        \n",
    "        # Project onto the constraint set\n",
    "        x -= constraint(x) * np.array([1, 1])\n",
    "        \n",
    "        # Check convergence\n",
    "        if np.linalg.norm(grad) < tolerance:\n",
    "            break\n",
    "    \n",
    "    return x\n",
    "\n",
    "\n",
    "def objective(x):\n",
    "    return x[0]**2 + x[1]**2\n",
    "\n",
    "\n",
    "def gradient(x):\n",
    "    return np.array([2*x[0], 2*x[1]])\n",
    "\n",
    "\n",
    "def constraint(x):\n",
    "    return x[0] + x[1] - 1\n",
    "\n",
    "\n",
    "k = np.array([4.0, 6.0])\n",
    "\n",
    "# Solve the optimization problem with constraints\n",
    "solution = gradient_descent_with_constraint(objective, gradient, constraint, k)\n",
    "\n",
    "print(\"Optimization Solution:\", solution)\n"
   ]
  }
 ],
 "metadata": {
  "kernelspec": {
   "display_name": "Python 3 (ipykernel)",
   "language": "python",
   "name": "python3"
  },
  "language_info": {
   "codemirror_mode": {
    "name": "ipython",
    "version": 3
   },
   "file_extension": ".py",
   "mimetype": "text/x-python",
   "name": "python",
   "nbconvert_exporter": "python",
   "pygments_lexer": "ipython3",
   "version": "3.11.7"
  }
 },
 "nbformat": 4,
 "nbformat_minor": 5
}
