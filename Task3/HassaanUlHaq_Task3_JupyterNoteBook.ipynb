{
 "cells": [
  {
   "cell_type": "markdown",
   "id": "310f9323-640e-4e87-9279-98ec77d6ed17",
   "metadata": {},
   "source": [
    "# Level 1 Heading printing add of two numbers\n"
   ]
  },
  {
   "cell_type": "code",
   "execution_count": 1,
   "id": "3fcf4b2f-d286-450f-a39a-0f2e688fc2ac",
   "metadata": {},
   "outputs": [
    {
     "name": "stdout",
     "output_type": "stream",
     "text": [
      "2\n"
     ]
    }
   ],
   "source": [
    "print(1+1);\n"
   ]
  },
  {
   "cell_type": "markdown",
   "id": "fec97ed2-4bd0-4ed9-92ef-8ede1ae7b0ef",
   "metadata": {},
   "source": [
    "## Level 2 Heading printing add of two alphabets\n",
    "\n",
    "\n",
    "\n",
    "\n",
    "\n"
   ]
  },
  {
   "cell_type": "code",
   "execution_count": 2,
   "id": "c2c8758d-05a5-4cbe-9a30-8b0e84fb9537",
   "metadata": {},
   "outputs": [
    {
     "name": "stdout",
     "output_type": "stream",
     "text": [
      "HA\n"
     ]
    }
   ],
   "source": [
    "print('H'+'A')"
   ]
  },
  {
   "cell_type": "markdown",
   "id": "bf6ca6c7-3b89-404f-bca0-41981e97dd38",
   "metadata": {},
   "source": [
    "### Level 3 heading printing add of two words"
   ]
  },
  {
   "cell_type": "code",
   "execution_count": 4,
   "id": "6b6c43a7-64f3-4535-9712-2ae21fb878cc",
   "metadata": {},
   "outputs": [
    {
     "name": "stdout",
     "output_type": "stream",
     "text": [
      "Pakistan Zindababd\n"
     ]
    }
   ],
   "source": [
    "print('Pakistan'+' Zindababd')"
   ]
  },
  {
   "cell_type": "code",
   "execution_count": null,
   "id": "580f4b3f-9286-4ec6-a5c9-c89e5dcd844e",
   "metadata": {},
   "outputs": [],
   "source": []
  }
 ],
 "metadata": {
  "kernelspec": {
   "display_name": "Python 3 (ipykernel)",
   "language": "python",
   "name": "python3"
  },
  "language_info": {
   "codemirror_mode": {
    "name": "ipython",
    "version": 3
   },
   "file_extension": ".py",
   "mimetype": "text/x-python",
   "name": "python",
   "nbconvert_exporter": "python",
   "pygments_lexer": "ipython3",
   "version": "3.11.7"
  }
 },
 "nbformat": 4,
 "nbformat_minor": 5
}
