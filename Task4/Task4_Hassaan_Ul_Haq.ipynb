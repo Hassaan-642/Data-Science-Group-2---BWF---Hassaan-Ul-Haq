{
 "cells": [
  {
   "cell_type": "code",
   "execution_count": 6,
   "id": "68801b89-66da-4380-a04f-577af8de7fbe",
   "metadata": {},
   "outputs": [
    {
     "name": "stdin",
     "output_type": "stream",
     "text": [
      "Enter the first number:  6\n",
      "Enter the second number:  6.6\n"
     ]
    },
    {
     "name": "stdout",
     "output_type": "stream",
     "text": [
      "Sum: 12.6\n",
      "Difference: -0.5999999999999996\n",
      "Product: 39.599999999999994\n",
      "Quotient: 0.9090909090909092\n"
     ]
    }
   ],
   "source": [
    "# Prompt the user to input the first number\n",
    "num1 = float(input(\"Enter the first number: \"))\n",
    "\n",
    "# Prompt the user to input the second number\n",
    "num2 = float(input(\"Enter the second number: \"))\n",
    "\n",
    "# Calculate the sum of the two numbers\n",
    "sum_result = num1 + num2\n",
    "\n",
    "# Calculate the difference of the two numbers\n",
    "difference_result = num1 - num2\n",
    "\n",
    "# Calculate the product of the two numbers\n",
    "product_result = num1 * num2\n",
    "\n",
    "# Calculate the quotient of the two numbers\n",
    "# Check if the second number is not zero to avoid division by zero error\n",
    "if num2 != 0:\n",
    "    quotient_result = num1 / num2\n",
    "else:\n",
    "    quotient_result = \"Undefined (division by zero is not allowed)\"\n",
    "\n",
    "# Display the results\n",
    "print(\"Sum:\", sum_result)\n",
    "print(\"Difference:\", difference_result)\n",
    "print(\"Product:\", product_result)\n",
    "print(\"Quotient:\", quotient_result)\n"
   ]
  },
  {
   "cell_type": "code",
   "execution_count": null,
   "id": "58eae414-210b-49c6-b326-4ca2fa665846",
   "metadata": {},
   "outputs": [],
   "source": []
  }
 ],
 "metadata": {
  "kernelspec": {
   "display_name": "Python 3 (ipykernel)",
   "language": "python",
   "name": "python3"
  },
  "language_info": {
   "codemirror_mode": {
    "name": "ipython",
    "version": 3
   },
   "file_extension": ".py",
   "mimetype": "text/x-python",
   "name": "python",
   "nbconvert_exporter": "python",
   "pygments_lexer": "ipython3",
   "version": "3.11.7"
  }
 },
 "nbformat": 4,
 "nbformat_minor": 5
}
